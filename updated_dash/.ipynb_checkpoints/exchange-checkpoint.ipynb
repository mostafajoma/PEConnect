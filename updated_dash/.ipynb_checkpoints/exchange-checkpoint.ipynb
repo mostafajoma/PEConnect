{
 "cells": [
  {
   "cell_type": "code",
   "execution_count": 1,
   "metadata": {},
   "outputs": [
    {
     "data": {
      "text/plain": [
       "True"
      ]
     },
     "execution_count": 1,
     "metadata": {},
     "output_type": "execute_result"
    }
   ],
   "source": [
    "# importing libraries\n",
    "from constants import *\n",
    "from abis_and_keys import *\n",
    "import os\n",
    "from dotenv import load_dotenv\n",
    "import json\n",
    "from eth_account import Account\n",
    "from web3 import Web3\n",
    "from web3.middleware import geth_poa_middleware\n",
    "from web3.gas_strategies.time_based import medium_gas_price_strategy\n",
    "from bit.network import NetworkAPI\n",
    "import ipywidgets as widgets\n",
    "from IPython.display import display\n",
    "\n",
    "load_dotenv()"
   ]
  },
  {
   "cell_type": "code",
   "execution_count": 2,
   "metadata": {},
   "outputs": [],
   "source": [
    "# establishing address and private key variables\n",
    "#seller_address = None\n",
    "#seller_private_key = None\n",
    "\n",
    "#buyer_address = None\n",
    "#buyer_private_key = None\n",
    "\n",
    "#seller_pk_readable = None\n",
    "#buyer_pk_readable = None"
   ]
  },
  {
   "cell_type": "code",
   "execution_count": 3,
   "metadata": {},
   "outputs": [],
   "source": [
    "# setting exchange rate for ETH to YodaCoins\n",
    "exchange_rate = .5"
   ]
  },
  {
   "cell_type": "code",
   "execution_count": 4,
   "metadata": {},
   "outputs": [],
   "source": [
    "# function to convert private key into a readable format for web3 / bit\n",
    "def priv_key_to_account (priv_key):\n",
    "    return Account.privateKeyToAccount(priv_key)"
   ]
  },
  {
   "cell_type": "code",
   "execution_count": 5,
   "metadata": {},
   "outputs": [],
   "source": [
    "# setting up Web3 network\n",
    "\n",
    "# local\n",
    "# w3 = Web3(Web3.HTTPProvider(\"http://127.0.0.1:8545\"))\n",
    "\n",
    "# kovan\n",
    "w3 = Web3(Web3.HTTPProvider(f\"https://kovan.infura.io/v3/{INFURA_PROJECT_ID}\"))"
   ]
  },
  {
   "cell_type": "code",
   "execution_count": 6,
   "metadata": {},
   "outputs": [],
   "source": [
    "# setting contract address\n",
    "#deployer_contract_address = '0xFa543Cc607e9475d1c997A1cdFA3242340667301'\n",
    "\n",
    "deployer_contract = w3.eth.contract(address=deployer_contract_address, abi=deployer_abi)\n",
    "\n",
    "coinA_contract = w3.eth.contract(address=deployer_contract.functions.token_address().call(), abi=coin_abi)\n",
    "\n",
    "coinA_contract_sale = w3.eth.contract(address=deployer_contract.functions.token_sale_address().call(), abi=sale_abi)\n"
   ]
  },
  {
   "cell_type": "code",
   "execution_count": 7,
   "metadata": {},
   "outputs": [],
   "source": [
    "# function to create raw, unsigned transaction\n",
    "def seller_tx(coin, seller_account, buyer_account, amount):\n",
    "\n",
    "    seller_gas_estimate = w3.eth.estimateGas({\n",
    "        \"from\": seller_account.address, \n",
    "        \"to\": buyer_account, \n",
    "        \"value\": w3.toWei(amount,'ether') \n",
    "    })\n",
    "    \n",
    "    seller_details = {\n",
    "        \"from\": seller_account.address,\n",
    "        \"to\": buyer_account,\n",
    "        \"value\": w3.toWei(amount,'ether') ,\n",
    "        \"gas\": seller_gas_estimate,\n",
    "        \"gasPrice\": w3.eth.gasPrice,\n",
    "        \"nonce\": w3.eth.getTransactionCount(seller_account.address),\n",
    "    }\n",
    "    \n",
    "    return seller_details"
   ]
  },
  {
   "cell_type": "code",
   "execution_count": 8,
   "metadata": {},
   "outputs": [],
   "source": [
    "# function to create, sign, and send ethereum transaction \n",
    "def send_tx(coin, seller, seller_pk, buyer, buyer_pk, amount, rate):\n",
    "    \n",
    "    seller_raw_tx = seller_tx(coin, seller_pk, buyer, amount)\n",
    "    seller_signed_tx = seller_pk.signTransaction(seller_raw_tx)\n",
    "    \n",
    "    seller_result = w3.eth.sendRawTransaction(seller_signed_tx.rawTransaction)\n",
    "    \n",
    "    return seller_result"
   ]
  },
  {
   "cell_type": "code",
   "execution_count": 9,
   "metadata": {},
   "outputs": [],
   "source": [
    "# function to create, sign, and send YodaCoin transaction \n",
    "def token_tx(seller_account, seller_key, buyer_address, amount):\n",
    "    \n",
    "    transfer = coinA_contract.functions.transfer(buyer_address, amount).buildTransaction(\n",
    "        {\n",
    "            'gas' : 3000000,\n",
    "            'nonce' : w3.eth.getTransactionCount(seller_account)\n",
    "        }\n",
    "    )\n",
    "    \n",
    "    signed_transfer = w3.eth.account.signTransaction(transfer, seller_key)\n",
    "    \n",
    "    transfer_hash = w3.eth.sendRawTransaction(signed_transfer.rawTransaction)\n",
    "    \n",
    "    tx_receipt = w3.eth.waitForTransactionReceipt(transfer_hash)\n",
    "    \n",
    "    return tx_receipt"
   ]
  },
  {
   "cell_type": "code",
   "execution_count": 10,
   "metadata": {},
   "outputs": [],
   "source": [
    "# creating empty list to hold trade orders and dict to hold trade order metadata\n",
    "trade_blotter_list = []\n",
    "trade_details = {}\n",
    "\n",
    "# establishing variable for trade amount\n",
    "buy_sell_amount = None"
   ]
  },
  {
   "cell_type": "code",
   "execution_count": 17,
   "metadata": {},
   "outputs": [],
   "source": [
    "# setting up widgets to create orders \n",
    "\n",
    "# address input widget\n",
    "maker_account_selector = widgets.Text(\n",
    "    value = '',\n",
    "    description = 'Maker Account: ',\n",
    "    placeholder = 'Enter account address',\n",
    "    style = {'description_width': 'initial'},\n",
    ")\n",
    "\n",
    "# private key input widget\n",
    "maker_key_input = widgets.Password(\n",
    "    value = '',\n",
    "    description = 'Private Key: ',\n",
    "    placeholder = 'Enter private key'\n",
    ")\n",
    "\n",
    "\n",
    "# input token amount for trade\n",
    "maker_coin_text = widgets.IntText(\n",
    "    value = 0,\n",
    "    description = 'YodaCoins',\n",
    "    style = {'description_width': 'initial'},\n",
    "    disabled = False\n",
    ")\n",
    "\n",
    "# sell order button\n",
    "sell_order_button = widgets.Button(\n",
    "    description = 'Enter Buy Order',\n",
    "    layout ={'border': '1px solid black'},\n",
    "    disabled = False\n",
    ")\n",
    "\n",
    "# buy order button\n",
    "buy_order_button = widgets.Button(\n",
    "    description = 'Enter Sell Order',\n",
    "    layout ={'border': '1px solid black'},\n",
    "    disabled = False\n",
    ")"
   ]
  },
  {
   "cell_type": "code",
   "execution_count": 18,
   "metadata": {},
   "outputs": [],
   "source": [
    "# function to initiate a new sell order and add to the trade blotter upon button click\n",
    "def sell_order_button_clicked(b):\n",
    "    \n",
    "    with trade_taker_output:\n",
    "        \n",
    "        seller_address = maker_account_selector.value\n",
    "        seller_private_key = maker_key_input.value\n",
    "        seller_pk_readable = priv_key_to_account(seller_private_key)\n",
    "        buy_sell_amount = maker_coin_text.value\n",
    "\n",
    "        trade_blotter_list.append(f'Sell {buy_sell_amount} YodaCoins')\n",
    "        trade_blotter.options = trade_blotter_list\n",
    "        trade_details[trade_blotter_list[-1]] = [seller_address, \n",
    "                                                 seller_private_key, \n",
    "                                                 priv_key_to_account(seller_private_key), \n",
    "                                                 buy_sell_amount, \n",
    "                                                 'sell']\n",
    "        \n",
    "        trade_taker_output.clear_output()\n",
    "        display(trade_taker)\n",
    "\n",
    "sell_order_button.on_click(sell_order_button_clicked)"
   ]
  },
  {
   "cell_type": "code",
   "execution_count": 19,
   "metadata": {},
   "outputs": [],
   "source": [
    "# function to initiate a new buy order and add to the trade blotter upon button click\n",
    "def buy_order_button_clicked(b):\n",
    "    \n",
    "    with trade_taker_output:\n",
    "    \n",
    "        seller_address = maker_account_selector.value\n",
    "        seller_private_key = maker_key_input.value\n",
    "        seller_pk_readable = priv_key_to_account(seller_private_key)\n",
    "        buy_sell_amount = maker_coin_text.value\n",
    "\n",
    "        trade_blotter_list.append(f'Buy {buy_sell_amount} YodaCoins')\n",
    "        trade_blotter.options = trade_blotter_list\n",
    "        trade_details[trade_blotter_list[-1]] = [seller_address, \n",
    "                                                 seller_private_key, \n",
    "                                                 priv_key_to_account(seller_private_key),\n",
    "                                                 buy_sell_amount, \n",
    "                                                 'buy']\n",
    "        \n",
    "        trade_taker_output.clear_output()\n",
    "        display(trade_taker)\n",
    "\n",
    "buy_order_button.on_click(buy_order_button_clicked)"
   ]
  },
  {
   "cell_type": "code",
   "execution_count": 20,
   "metadata": {},
   "outputs": [],
   "source": [
    "# grouping widgets for order entry\n",
    "account_input = widgets.VBox([maker_account_selector, maker_key_input])\n",
    "buy_sell_buttons = widgets.HBox([sell_order_button, buy_order_button])\n",
    "order_amount = widgets.VBox([maker_coin_text, buy_sell_buttons])\n",
    "\n",
    "buy_sell_order = widgets.VBox([account_input, order_amount])"
   ]
  },
  {
   "cell_type": "code",
   "execution_count": 21,
   "metadata": {},
   "outputs": [],
   "source": [
    "# creating widget to take trades \n",
    "\n",
    "trade_selection = None\n",
    "\n",
    "account_selector_2 = widgets.Text(\n",
    "    value = '',\n",
    "    description = 'Taker Account: ',\n",
    "    placeholder = 'Enter account address',\n",
    "    style = {'description_width': 'initial'},\n",
    ")\n",
    "\n",
    "key_input_2 = widgets.Password(\n",
    "    value = '',\n",
    "    description = 'Private Key: ',\n",
    "    placeholder = 'Enter private key'\n",
    ")\n",
    "\n",
    "\n",
    "trade_blotter = widgets.Select(\n",
    "    options = trade_blotter_list,\n",
    "    description='Available Trades:',\n",
    "    style = {'description_width': 'initial'},\n",
    "    disabled=False\n",
    ")\n",
    "\n",
    "# accept trade button\n",
    "accept_trade_button = widgets.Button(\n",
    "    description = 'Accept Trade',\n",
    "    layout ={'border': '1px solid black'},\n",
    "    disabled = False\n",
    ")"
   ]
  },
  {
   "cell_type": "code",
   "execution_count": 22,
   "metadata": {},
   "outputs": [],
   "source": [
    "# grouping trade taking widgets\n",
    "trade_taker = widgets.VBox([account_selector_2, key_input_2, trade_blotter])"
   ]
  },
  {
   "cell_type": "code",
   "execution_count": 23,
   "metadata": {},
   "outputs": [],
   "source": [
    "# converting trade taker widget into an output widget so that it can be updated dynamically \n",
    "trade_taker_output = widgets.Output()\n",
    "\n",
    "with trade_taker_output:\n",
    "    #trade_taker_output.clear_output()\n",
    "    display(trade_taker)"
   ]
  },
  {
   "cell_type": "code",
   "execution_count": 24,
   "metadata": {},
   "outputs": [],
   "source": [
    "# function to initiate transaction upon accepting the trade\n",
    "# def token_tx(seller_account, seller_key, buyer_address, amount):\n",
    "def accept_trade_button_clicked(b):\n",
    "    \n",
    "    with trade_taker_output:\n",
    "\n",
    "        trade_selection = trade_blotter.value\n",
    "        seller_address = trade_details[trade_selection][0]\n",
    "        seller_private_key = trade_details[trade_selection][1]\n",
    "        seller_pk_readable = trade_details[trade_selection][2]\n",
    "        token_amount = trade_details[trade_selection][3]\n",
    "        buyer_address = account_selector_2.value\n",
    "        buyer_private_key = key_input_2.value\n",
    "        buyer_pk_readable = priv_key_to_account(buyer_private_key)\n",
    "\n",
    "        if trade_details[trade_selection][4] == 'sell':\n",
    "\n",
    "            send_tx(\n",
    "                ETH,\n",
    "                seller_address,\n",
    "                seller_pk_readable,\n",
    "                buyer_address,\n",
    "                buyer_pk_readable,\n",
    "                (token_amount*exchange_rate),\n",
    "                exchange_rate\n",
    "            )\n",
    "            \n",
    "            token_tx(\n",
    "                buyer_address,\n",
    "                buyer_private_key,\n",
    "                seller_address,\n",
    "                token_amount\n",
    "            )\n",
    "\n",
    "        elif trade_details[trade_selection][4] == 'buy':\n",
    "\n",
    "            send_tx(\n",
    "                ETH,\n",
    "                buyer_address,\n",
    "                buyer_pk_readable, \n",
    "                seller_address,\n",
    "                seller_pk_readable,\n",
    "                (token_amount*exchange_rate),\n",
    "                exchange_rate\n",
    "            )\n",
    "            \n",
    "            token_tx(\n",
    "                seller_address,\n",
    "                seller_private_key,\n",
    "                buyer_address,\n",
    "                token_amount\n",
    "            )\n",
    "            \n",
    "        trade_blotter_list.remove(trade_selection)\n",
    "        trade_blotter.options = trade_blotter_list\n",
    "        trade_taker_output.clear_output()\n",
    "        display(trade_taker)\n",
    "\n",
    "accept_trade_button.on_click(accept_trade_button_clicked)"
   ]
  },
  {
   "cell_type": "code",
   "execution_count": 25,
   "metadata": {},
   "outputs": [],
   "source": [
    "# creating final dashboard\n",
    "trading_app_dash = widgets.VBox(\n",
    "    [buy_sell_order,trade_taker_output,accept_trade_button],\n",
    "    layout ={'border': '1px solid black'},\n",
    "    disabled = False\n",
    ")"
   ]
  },
  {
   "cell_type": "code",
   "execution_count": 26,
   "metadata": {},
   "outputs": [],
   "source": [
    "# local maker test address / private key\n",
    "# address: 0x51e4767C3c9075C515140FeE00Fa82d4749C3a25\n",
    "# private key: 35e62d4046ed76da7d209969e10563895a43b7d6a3cd9802e53802ff03948da3\n",
    "\n",
    "# local taker test address / private key\n",
    "# address: 0x501e9dc485842A11a83B2FEc16ec8C6079DCdc2C\n",
    "# private key: 2837d89b151c319bce1c2305d9bbe0fc9b107c5fc3cfae443eefd61b859b6cac\n",
    "\n",
    "# kovan token account\n",
    "# address: 0x376864F6c4C2eaeBeD004225B330B5dC5CdBBe16\n",
    "# private key: c0df39604ca440f35ed16efbaffe926e31bc2a3c81af57294edc3308f7f52f02\n",
    "\n",
    "# koven ether account\n",
    "# address: 0x51e4767C3c9075C515140FeE00Fa82d4749C3a25\n",
    "# private key = 35E62D4046ED76DA7D209969E10563895A43B7D6A3CD9802E53802FF03948DA3\n",
    "\n",
    "# contract address: 0x142902FeD4A9288f92FeBc996905Af1F06aCffaC"
   ]
  },
  {
   "cell_type": "code",
   "execution_count": 27,
   "metadata": {},
   "outputs": [
    {
     "data": {
      "application/vnd.jupyter.widget-view+json": {
       "model_id": "75eb980a98fc46b8b7ee347ed6053572",
       "version_major": 2,
       "version_minor": 0
      },
      "text/plain": [
       "VBox(children=(VBox(children=(VBox(children=(Text(value='', description='Maker Account: ', placeholder='Enter …"
      ]
     },
     "metadata": {},
     "output_type": "display_data"
    }
   ],
   "source": [
    "trading_app_dash"
   ]
  },
  {
   "cell_type": "code",
   "execution_count": null,
   "metadata": {},
   "outputs": [],
   "source": []
  }
 ],
 "metadata": {
  "kernelspec": {
   "display_name": "Python 3",
   "language": "python",
   "name": "python3"
  },
  "language_info": {
   "codemirror_mode": {
    "name": "ipython",
    "version": 3
   },
   "file_extension": ".py",
   "mimetype": "text/x-python",
   "name": "python",
   "nbconvert_exporter": "python",
   "pygments_lexer": "ipython3",
   "version": "3.7.6"
  }
 },
 "nbformat": 4,
 "nbformat_minor": 4
}
