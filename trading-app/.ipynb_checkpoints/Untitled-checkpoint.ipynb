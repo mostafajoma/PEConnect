{
 "cells": [
  {
   "cell_type": "code",
   "execution_count": 32,
   "metadata": {},
   "outputs": [
    {
     "data": {
      "text/plain": [
       "True"
      ]
     },
     "execution_count": 32,
     "metadata": {},
     "output_type": "execute_result"
    }
   ],
   "source": [
    "# importing libraries\n",
    "from constants import *\n",
    "import os\n",
    "from dotenv import load_dotenv\n",
    "import subprocess\n",
    "import json\n",
    "from eth_account import Account\n",
    "from bit import PrivateKeyTestnet\n",
    "from web3 import Web3\n",
    "from web3.middleware import geth_poa_middleware\n",
    "from web3.gas_strategies.time_based import medium_gas_price_strategy\n",
    "from bit.network import NetworkAPI\n",
    "import ipywidgets as widgets\n",
    "\n",
    "load_dotenv()"
   ]
  },
  {
   "cell_type": "code",
   "execution_count": 33,
   "metadata": {},
   "outputs": [],
   "source": [
    "# calling mnemonic environment variable\n",
    "mnemonic = os.getenv('MNEMONIC')"
   ]
  },
  {
   "cell_type": "code",
   "execution_count": 34,
   "metadata": {},
   "outputs": [],
   "source": [
    "# setting address vars for testing\n",
    "seller_address = '0x51e4767C3c9075C515140FeE00Fa82d4749C3a25'\n",
    "seller_private_key = '35e62d4046ed76da7d209969e10563895a43b7d6a3cd9802e53802ff03948da3'\n",
    "\n",
    "buyer_address = '0x501e9dc485842A11a83B2FEc16ec8C6079DCdc2C'\n",
    "buyer_private_key = '2837d89b151c319bce1c2305d9bbe0fc9b107c5fc3cfae443eefd61b859b6cac'"
   ]
  },
  {
   "cell_type": "code",
   "execution_count": 35,
   "metadata": {},
   "outputs": [],
   "source": [
    "# function to convert private key into a readable format for web3 / bit\n",
    "def priv_key_to_account (priv_key):\n",
    "    \n",
    "    return Account.privateKeyToAccount(priv_key)"
   ]
  },
  {
   "cell_type": "code",
   "execution_count": 36,
   "metadata": {},
   "outputs": [
    {
     "name": "stdout",
     "output_type": "stream",
     "text": [
      "<eth_account.signers.local.LocalAccount object at 0x7faa10cdcbd0>\n"
     ]
    }
   ],
   "source": [
    "# converting seller private key into readable format\n",
    "seller_pk_readable = priv_key_to_account(seller_private_key)\n",
    "\n",
    "print(seller_pk_readable)"
   ]
  },
  {
   "cell_type": "code",
   "execution_count": 37,
   "metadata": {},
   "outputs": [
    {
     "name": "stdout",
     "output_type": "stream",
     "text": [
      "<eth_account.signers.local.LocalAccount object at 0x7faa10cdcf50>\n"
     ]
    }
   ],
   "source": [
    "# converting buyer private key into readable format\n",
    "buyer_pk_readable = priv_key_to_account(buyer_private_key)\n",
    "\n",
    "print(buyer_pk_readable)"
   ]
  },
  {
   "cell_type": "code",
   "execution_count": 38,
   "metadata": {},
   "outputs": [],
   "source": [
    "# setting up Web3 port\n",
    "w3 = Web3(Web3.HTTPProvider(\"http://127.0.0.1:8545\"))"
   ]
  },
  {
   "cell_type": "code",
   "execution_count": 39,
   "metadata": {},
   "outputs": [],
   "source": [
    "# function to create raw, unsigned transaction\n",
    "def seller_tx(coin, seller_account, buyer_account, amount):\n",
    "\n",
    "    seller_gas_estimate = w3.eth.estimateGas({\n",
    "        \"from\": seller_account.address, \n",
    "        \"to\": buyer_account, \n",
    "        \"value\": w3.toWei(amount,'ether') \n",
    "    })\n",
    "    \n",
    "    seller_details = {\n",
    "        \"from\": seller_account.address,\n",
    "        \"to\": buyer_account,\n",
    "        \"value\": w3.toWei(amount,'ether') ,\n",
    "        \"gas\": seller_gas_estimate,\n",
    "        \"gasPrice\": w3.eth.gasPrice,\n",
    "        \"nonce\": w3.eth.getTransactionCount(seller_account.address),\n",
    "    }\n",
    "    \n",
    "    return seller_details"
   ]
  },
  {
   "cell_type": "code",
   "execution_count": 40,
   "metadata": {},
   "outputs": [],
   "source": [
    "def buyer_tx(coin,  buyer_account, seller_account, amount, rate):\n",
    "    \n",
    "    buyer_gas_estimate = w3.eth.estimateGas({\n",
    "        \"from\": buyer_account.address, \n",
    "        \"to\": seller_account, \n",
    "        \"value\": w3.toWei(amount,'ether') \n",
    "    })\n",
    "        \n",
    "    buyer_details = {\n",
    "        \"from\": buyer_account.address,\n",
    "        \"to\": seller_account,\n",
    "        \"value\": w3.toWei((amount*rate),'ether') ,\n",
    "        \"gas\": buyer_gas_estimate,\n",
    "        \"gasPrice\": w3.eth.gasPrice,\n",
    "        \"nonce\": w3.eth.getTransactionCount(buyer_account.address),\n",
    "    }\n",
    "    \n",
    "    return buyer_details"
   ]
  },
  {
   "cell_type": "code",
   "execution_count": 41,
   "metadata": {},
   "outputs": [
    {
     "data": {
      "text/plain": [
       "{'from': '0x51e4767C3c9075C515140FeE00Fa82d4749C3a25',\n",
       " 'to': '0x501e9dc485842A11a83B2FEc16ec8C6079DCdc2C',\n",
       " 'value': 10000000000000000000,\n",
       " 'gas': 21000,\n",
       " 'gasPrice': 20000000000,\n",
       " 'nonce': 17}"
      ]
     },
     "execution_count": 41,
     "metadata": {},
     "output_type": "execute_result"
    }
   ],
   "source": [
    "seller_tx(ETH,seller_pk_readable,buyer_address,10)"
   ]
  },
  {
   "cell_type": "code",
   "execution_count": 42,
   "metadata": {},
   "outputs": [
    {
     "data": {
      "text/plain": [
       "{'from': '0x501e9dc485842A11a83B2FEc16ec8C6079DCdc2C',\n",
       " 'to': '0x51e4767C3c9075C515140FeE00Fa82d4749C3a25',\n",
       " 'value': 7500000000000000000,\n",
       " 'gas': 21000,\n",
       " 'gasPrice': 20000000000,\n",
       " 'nonce': 14}"
      ]
     },
     "execution_count": 42,
     "metadata": {},
     "output_type": "execute_result"
    }
   ],
   "source": [
    "buyer_tx(ETH,buyer_pk_readable,seller_address,10,.75)"
   ]
  },
  {
   "cell_type": "code",
   "execution_count": 43,
   "metadata": {},
   "outputs": [],
   "source": [
    "# function to create, sign, and send a two-way transaction \n",
    "def send_tx(coin, seller, seller_pk, buyer, buyer_pk, amount, rate):\n",
    "    \n",
    "    seller_raw_tx = seller_tx(coin, seller_pk, buyer, amount)\n",
    "    seller_signed_tx = seller_pk.sign_transaction(seller_raw_tx)\n",
    "    \n",
    "    buyer_raw_tx = buyer_tx(coin, buyer_pk, seller, amount, rate)\n",
    "    buyer_signed_tx = buyer_pk.sign_transaction(buyer_raw_tx)\n",
    "    \n",
    "    seller_result = w3.eth.sendRawTransaction(seller_signed_tx.rawTransaction)\n",
    "    buyer_result = w3.eth.sendRawTransaction(buyer_signed_tx.rawTransaction)\n",
    "    \n",
    "    return seller_result, buyer_result"
   ]
  },
  {
   "cell_type": "code",
   "execution_count": 44,
   "metadata": {},
   "outputs": [
    {
     "data": {
      "text/plain": [
       "(HexBytes('0x19cdbf6d78f14242429bfabf200f5d93b5b3ec7299e94c8d8a7c7e06620614f2'),\n",
       " HexBytes('0xf56854bbae48adae811ca53ecdaf1d091a7854d7c00a1a7d7baa7e5e87d38513'))"
      ]
     },
     "execution_count": 44,
     "metadata": {},
     "output_type": "execute_result"
    }
   ],
   "source": [
    "send_tx(ETH,seller_address,seller_pk_readable,buyer_address,buyer_pk_readable,10,1.5)"
   ]
  },
  {
   "cell_type": "code",
   "execution_count": 45,
   "metadata": {},
   "outputs": [],
   "source": [
    "# setting up widgets to send \n",
    "\n",
    "account_selector = widgets.Text(\n",
    "    value = '',\n",
    "    description = 'Account: ',\n",
    "    placeholder = 'Enter account address'\n",
    ")\n",
    "\n",
    "key_input = widgets.Password(\n",
    "    value = '',\n",
    "    description = 'Private Key: ',\n",
    "    placeholder = 'Enter private key'\n",
    ")\n",
    "\n",
    "\n",
    "# Input token amount for purchase\n",
    "coin_text = widgets.IntText(\n",
    "    value = 0,\n",
    "    description = 'YodaCoins',\n",
    "    style = {'description_width': 'initial'},\n",
    "    disabled = False\n",
    ")\n",
    "\n",
    "# Purchase button\n",
    "coin_button = widgets.Button(\n",
    "    description = 'Enter Sell Order',\n",
    "    layout ={'border': '1px solid black'},\n",
    "    disabled = False\n",
    ")"
   ]
  },
  {
   "cell_type": "code",
   "execution_count": 46,
   "metadata": {},
   "outputs": [],
   "source": [
    "account_input = widgets.HBox([account_selector, key_input])\n",
    "purchase_coins = widgets.HBox([coin_text, coin_button])\n",
    "purchase_from_acct = widgets.VBox([account_input, purchase_coins])"
   ]
  },
  {
   "cell_type": "code",
   "execution_count": 47,
   "metadata": {},
   "outputs": [
    {
     "data": {
      "application/vnd.jupyter.widget-view+json": {
       "model_id": "8265cddd28c54c9382dfd30d2f6f977e",
       "version_major": 2,
       "version_minor": 0
      },
      "text/plain": [
       "VBox(children=(HBox(children=(Text(value='', description='Account: ', placeholder='Enter account address'), Pa…"
      ]
     },
     "metadata": {},
     "output_type": "display_data"
    }
   ],
   "source": [
    "purchase_from_acct"
   ]
  },
  {
   "cell_type": "code",
   "execution_count": null,
   "metadata": {},
   "outputs": [],
   "source": []
  }
 ],
 "metadata": {
  "kernelspec": {
   "display_name": "Python 3",
   "language": "python",
   "name": "python3"
  },
  "language_info": {
   "codemirror_mode": {
    "name": "ipython",
    "version": 3
   },
   "file_extension": ".py",
   "mimetype": "text/x-python",
   "name": "python",
   "nbconvert_exporter": "python",
   "pygments_lexer": "ipython3",
   "version": "3.7.7"
  }
 },
 "nbformat": 4,
 "nbformat_minor": 4
}
