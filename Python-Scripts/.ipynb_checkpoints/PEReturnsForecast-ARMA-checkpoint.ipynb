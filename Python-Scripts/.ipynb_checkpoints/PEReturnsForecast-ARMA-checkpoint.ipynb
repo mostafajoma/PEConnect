{
 "cells": [
  {
   "cell_type": "code",
   "execution_count": 1,
   "metadata": {},
   "outputs": [],
   "source": [
    "# Initial imports\n",
    "import numpy as np\n",
    "import pandas as pd\n",
    "from pathlib import Path\n",
    "import arch as arch\n",
    "\n",
    "%matplotlib inline"
   ]
  },
  {
   "cell_type": "code",
   "execution_count": 2,
   "metadata": {},
   "outputs": [
    {
     "name": "stderr",
     "output_type": "stream",
     "text": [
      "Using TensorFlow backend.\n"
     ]
    }
   ],
   "source": [
    "#Other Imports \n",
    "from collections import Counter\n",
    "from sklearn.metrics import balanced_accuracy_score\n",
    "from sklearn.metrics import confusion_matrix\n",
    "from imblearn.metrics import classification_report_imbalanced\n",
    "from sklearn.preprocessing import StandardScaler, MinMaxScaler"
   ]
  },
  {
   "cell_type": "code",
   "execution_count": 3,
   "metadata": {},
   "outputs": [],
   "source": [
    "#file_path = Path('PrivateEquityReturns.csv')\n",
    "#pe_df = pd.read_csv(file_path, parse_dates=True, index_col='Date', infer_datetime_format=True)\n",
    "#pe_df"
   ]
  },
  {
   "cell_type": "code",
   "execution_count": 4,
   "metadata": {},
   "outputs": [
    {
     "data": {
      "text/html": [
       "<div>\n",
       "<style scoped>\n",
       "    .dataframe tbody tr th:only-of-type {\n",
       "        vertical-align: middle;\n",
       "    }\n",
       "\n",
       "    .dataframe tbody tr th {\n",
       "        vertical-align: top;\n",
       "    }\n",
       "\n",
       "    .dataframe thead th {\n",
       "        text-align: right;\n",
       "    }\n",
       "</style>\n",
       "<table border=\"1\" class=\"dataframe\">\n",
       "  <thead>\n",
       "    <tr style=\"text-align: right;\">\n",
       "      <th></th>\n",
       "      <th>Index</th>\n",
       "      <th>Quarter</th>\n",
       "      <th>Private Equity Returns</th>\n",
       "      <th>Cumulative</th>\n",
       "      <th>100</th>\n",
       "      <th>Unnamed: 6</th>\n",
       "      <th>Unnamed: 7</th>\n",
       "    </tr>\n",
       "    <tr>\n",
       "      <th>Date</th>\n",
       "      <th></th>\n",
       "      <th></th>\n",
       "      <th></th>\n",
       "      <th></th>\n",
       "      <th></th>\n",
       "      <th></th>\n",
       "      <th></th>\n",
       "    </tr>\n",
       "  </thead>\n",
       "  <tbody>\n",
       "    <tr>\n",
       "      <td>1986-06-30</td>\n",
       "      <td>1986 Q2</td>\n",
       "      <td>Q2</td>\n",
       "      <td>4.22</td>\n",
       "      <td>104.22</td>\n",
       "      <td>104.22</td>\n",
       "      <td>NaN</td>\n",
       "      <td>NaN</td>\n",
       "    </tr>\n",
       "    <tr>\n",
       "      <td>1986-09-30</td>\n",
       "      <td>1986 Q3</td>\n",
       "      <td>Q3</td>\n",
       "      <td>-2.60</td>\n",
       "      <td>101.62</td>\n",
       "      <td>101.62</td>\n",
       "      <td>NaN</td>\n",
       "      <td>NaN</td>\n",
       "    </tr>\n",
       "    <tr>\n",
       "      <td>1986-12-31</td>\n",
       "      <td>1986 Q4</td>\n",
       "      <td>Q4</td>\n",
       "      <td>1.11</td>\n",
       "      <td>102.73</td>\n",
       "      <td>102.73</td>\n",
       "      <td>NaN</td>\n",
       "      <td>NaN</td>\n",
       "    </tr>\n",
       "    <tr>\n",
       "      <td>1987-03-31</td>\n",
       "      <td>1987 Q1</td>\n",
       "      <td>Q1</td>\n",
       "      <td>3.73</td>\n",
       "      <td>106.46</td>\n",
       "      <td>106.46</td>\n",
       "      <td>NaN</td>\n",
       "      <td>NaN</td>\n",
       "    </tr>\n",
       "    <tr>\n",
       "      <td>1987-06-30</td>\n",
       "      <td>1987 Q2</td>\n",
       "      <td>Q2</td>\n",
       "      <td>1.28</td>\n",
       "      <td>107.74</td>\n",
       "      <td>107.74</td>\n",
       "      <td>NaN</td>\n",
       "      <td>NaN</td>\n",
       "    </tr>\n",
       "    <tr>\n",
       "      <td>...</td>\n",
       "      <td>...</td>\n",
       "      <td>...</td>\n",
       "      <td>...</td>\n",
       "      <td>...</td>\n",
       "      <td>...</td>\n",
       "      <td>...</td>\n",
       "      <td>...</td>\n",
       "    </tr>\n",
       "    <tr>\n",
       "      <td>2018-09-30</td>\n",
       "      <td>2018 Q3</td>\n",
       "      <td>Q3</td>\n",
       "      <td>3.84</td>\n",
       "      <td>532.50</td>\n",
       "      <td>532.50</td>\n",
       "      <td>NaN</td>\n",
       "      <td>NaN</td>\n",
       "    </tr>\n",
       "    <tr>\n",
       "      <td>2018-12-31</td>\n",
       "      <td>2018 Q4</td>\n",
       "      <td>Q4</td>\n",
       "      <td>-1.95</td>\n",
       "      <td>530.55</td>\n",
       "      <td>530.55</td>\n",
       "      <td>NaN</td>\n",
       "      <td>NaN</td>\n",
       "    </tr>\n",
       "    <tr>\n",
       "      <td>2019-03-31</td>\n",
       "      <td>2019 Q1</td>\n",
       "      <td>Q1</td>\n",
       "      <td>4.89</td>\n",
       "      <td>535.44</td>\n",
       "      <td>535.44</td>\n",
       "      <td>NaN</td>\n",
       "      <td>NaN</td>\n",
       "    </tr>\n",
       "    <tr>\n",
       "      <td>2019-06-30</td>\n",
       "      <td>2019 Q2</td>\n",
       "      <td>Q2</td>\n",
       "      <td>3.42</td>\n",
       "      <td>538.86</td>\n",
       "      <td>538.86</td>\n",
       "      <td>NaN</td>\n",
       "      <td>NaN</td>\n",
       "    </tr>\n",
       "    <tr>\n",
       "      <td>2019-09-30</td>\n",
       "      <td>2019 Q3</td>\n",
       "      <td>Q3</td>\n",
       "      <td>1.31</td>\n",
       "      <td>540.17</td>\n",
       "      <td>540.17</td>\n",
       "      <td>NaN</td>\n",
       "      <td>NaN</td>\n",
       "    </tr>\n",
       "  </tbody>\n",
       "</table>\n",
       "<p>134 rows × 7 columns</p>\n",
       "</div>"
      ],
      "text/plain": [
       "               Index Quarter  Private Equity Returns  Cumulative     100  \\\n",
       "Date                                                                       \n",
       "1986-06-30  1986 Q2       Q2                    4.22      104.22  104.22   \n",
       "1986-09-30  1986 Q3       Q3                   -2.60      101.62  101.62   \n",
       "1986-12-31  1986 Q4       Q4                    1.11      102.73  102.73   \n",
       "1987-03-31  1987 Q1       Q1                    3.73      106.46  106.46   \n",
       "1987-06-30  1987 Q2       Q2                    1.28      107.74  107.74   \n",
       "...              ...     ...                     ...         ...     ...   \n",
       "2018-09-30  2018 Q3       Q3                    3.84      532.50  532.50   \n",
       "2018-12-31  2018 Q4       Q4                   -1.95      530.55  530.55   \n",
       "2019-03-31  2019 Q1       Q1                    4.89      535.44  535.44   \n",
       "2019-06-30  2019 Q2       Q2                    3.42      538.86  538.86   \n",
       "2019-09-30  2019 Q3       Q3                    1.31      540.17  540.17   \n",
       "\n",
       "            Unnamed: 6  Unnamed: 7  \n",
       "Date                                \n",
       "1986-06-30         NaN         NaN  \n",
       "1986-09-30         NaN         NaN  \n",
       "1986-12-31         NaN         NaN  \n",
       "1987-03-31         NaN         NaN  \n",
       "1987-06-30         NaN         NaN  \n",
       "...                ...         ...  \n",
       "2018-09-30         NaN         NaN  \n",
       "2018-12-31         NaN         NaN  \n",
       "2019-03-31         NaN         NaN  \n",
       "2019-06-30         NaN         NaN  \n",
       "2019-09-30         NaN         NaN  \n",
       "\n",
       "[134 rows x 7 columns]"
      ]
     },
     "execution_count": 4,
     "metadata": {},
     "output_type": "execute_result"
    }
   ],
   "source": [
    "file_path = Path('PrivateEquityReturnsFinal.csv')\n",
    "pe_df = pd.read_csv(file_path, parse_dates=True, index_col='Date', infer_datetime_format=True)\n",
    "pe_df"
   ]
  },
  {
   "cell_type": "code",
   "execution_count": 9,
   "metadata": {},
   "outputs": [
    {
     "data": {
      "text/html": [
       "<div>\n",
       "<style scoped>\n",
       "    .dataframe tbody tr th:only-of-type {\n",
       "        vertical-align: middle;\n",
       "    }\n",
       "\n",
       "    .dataframe tbody tr th {\n",
       "        vertical-align: top;\n",
       "    }\n",
       "\n",
       "    .dataframe thead th {\n",
       "        text-align: right;\n",
       "    }\n",
       "</style>\n",
       "<table border=\"1\" class=\"dataframe\">\n",
       "  <thead>\n",
       "    <tr style=\"text-align: right;\">\n",
       "      <th></th>\n",
       "      <th>Private Equity Returns</th>\n",
       "    </tr>\n",
       "    <tr>\n",
       "      <th>Date</th>\n",
       "      <th></th>\n",
       "    </tr>\n",
       "  </thead>\n",
       "  <tbody>\n",
       "    <tr>\n",
       "      <td>1986-06-30</td>\n",
       "      <td>4.22</td>\n",
       "    </tr>\n",
       "    <tr>\n",
       "      <td>1986-09-30</td>\n",
       "      <td>-2.60</td>\n",
       "    </tr>\n",
       "    <tr>\n",
       "      <td>1986-12-31</td>\n",
       "      <td>1.11</td>\n",
       "    </tr>\n",
       "    <tr>\n",
       "      <td>1987-03-31</td>\n",
       "      <td>3.73</td>\n",
       "    </tr>\n",
       "    <tr>\n",
       "      <td>1987-06-30</td>\n",
       "      <td>1.28</td>\n",
       "    </tr>\n",
       "    <tr>\n",
       "      <td>...</td>\n",
       "      <td>...</td>\n",
       "    </tr>\n",
       "    <tr>\n",
       "      <td>2018-09-30</td>\n",
       "      <td>3.84</td>\n",
       "    </tr>\n",
       "    <tr>\n",
       "      <td>2018-12-31</td>\n",
       "      <td>-1.95</td>\n",
       "    </tr>\n",
       "    <tr>\n",
       "      <td>2019-03-31</td>\n",
       "      <td>4.89</td>\n",
       "    </tr>\n",
       "    <tr>\n",
       "      <td>2019-06-30</td>\n",
       "      <td>3.42</td>\n",
       "    </tr>\n",
       "    <tr>\n",
       "      <td>2019-09-30</td>\n",
       "      <td>1.31</td>\n",
       "    </tr>\n",
       "  </tbody>\n",
       "</table>\n",
       "<p>134 rows × 1 columns</p>\n",
       "</div>"
      ],
      "text/plain": [
       "            Private Equity Returns\n",
       "Date                              \n",
       "1986-06-30                    4.22\n",
       "1986-09-30                   -2.60\n",
       "1986-12-31                    1.11\n",
       "1987-03-31                    3.73\n",
       "1987-06-30                    1.28\n",
       "...                            ...\n",
       "2018-09-30                    3.84\n",
       "2018-12-31                   -1.95\n",
       "2019-03-31                    4.89\n",
       "2019-06-30                    3.42\n",
       "2019-09-30                    1.31\n",
       "\n",
       "[134 rows x 1 columns]"
      ]
     },
     "execution_count": 9,
     "metadata": {},
     "output_type": "execute_result"
    }
   ],
   "source": [
    "df = pd.DataFrame(pe_df['Private Equity Returns'])\n",
    "df"
   ]
  },
  {
   "cell_type": "code",
   "execution_count": 10,
   "metadata": {},
   "outputs": [
    {
     "data": {
      "image/png": "[encoded data removed]",
      "text/plain": [
       "<Figure size 432x288 with 1 Axes>"
      ]
     },
     "execution_count": 10,
     "metadata": {},
     "output_type": "execute_result"
    },
    {
     "data": {
      "image/png": "[encoded data removed]",
      "text/plain": [
       "<Figure size 432x288 with 1 Axes>"
      ]
     },
     "metadata": {
      "needs_background": "light"
     },
     "output_type": "display_data"
    }
   ],
   "source": [
    "from statsmodels.graphics.tsaplots import plot_acf, plot_pacf\n",
    "plot_acf(df, lags=20)"
   ]
  },
  {
   "cell_type": "code",
   "execution_count": 11,
   "metadata": {},
   "outputs": [
    {
     "data": {
      "image/png": "[encoded data removed]",
      "text/plain": [
       "<Figure size 432x288 with 1 Axes>"
      ]
     },
     "execution_count": 11,
     "metadata": {},
     "output_type": "execute_result"
    },
    {
     "data": {
      "image/png": "[encoded data removed]",
      "text/plain": [
       "<Figure size 432x288 with 1 Axes>"
      ]
     },
     "metadata": {
      "needs_background": "light"
     },
     "output_type": "display_data"
    }
   ],
   "source": [
    "plot_pacf(df, zero=False, lags=20)"
   ]
  },
  {
   "cell_type": "code",
   "execution_count": 12,
   "metadata": {},
   "outputs": [
    {
     "name": "stderr",
     "output_type": "stream",
     "text": [
      "/Users/PeterRepetto/opt/anaconda3/lib/python3.7/site-packages/statsmodels/tsa/base/tsa_model.py:165: ValueWarning: No frequency information was provided, so inferred frequency Q-DEC will be used.\n",
      "  % freq, ValueWarning)\n",
      "/Users/PeterRepetto/opt/anaconda3/lib/python3.7/site-packages/statsmodels/tsa/base/tsa_model.py:165: ValueWarning: No frequency information was provided, so inferred frequency Q-DEC will be used.\n",
      "  % freq, ValueWarning)\n"
     ]
    }
   ],
   "source": [
    "from statsmodels.tsa.arima_model import ARIMA\n",
    "model = ARIMA(df['Private Equity Returns'], order=(2, 1, 2))"
   ]
  },
  {
   "cell_type": "code",
   "execution_count": 13,
   "metadata": {},
   "outputs": [],
   "source": [
    "results = model.fit()"
   ]
  },
  {
   "cell_type": "code",
   "execution_count": 14,
   "metadata": {},
   "outputs": [
    {
     "data": {
      "text/html": [
       "<table class=\"simpletable\">\n",
       "<caption>ARIMA Model Results</caption>\n",
       "<tr>\n",
       "  <th>Dep. Variable:</th> <td>D.Private Equity Returns</td> <th>  No. Observations:  </th>    <td>133</td>  \n",
       "</tr>\n",
       "<tr>\n",
       "  <th>Model:</th>              <td>ARIMA(2, 1, 2)</td>      <th>  Log Likelihood     </th> <td>-375.442</td>\n",
       "</tr>\n",
       "<tr>\n",
       "  <th>Method:</th>                 <td>css-mle</td>         <th>  S.D. of innovations</th>   <td>4.004</td> \n",
       "</tr>\n",
       "<tr>\n",
       "  <th>Date:</th>              <td>Wed, 03 Jun 2020</td>     <th>  AIC                </th>  <td>762.883</td>\n",
       "</tr>\n",
       "<tr>\n",
       "  <th>Time:</th>                  <td>19:41:28</td>         <th>  BIC                </th>  <td>780.225</td>\n",
       "</tr>\n",
       "<tr>\n",
       "  <th>Sample:</th>               <td>09-30-1986</td>        <th>  HQIC               </th>  <td>769.930</td>\n",
       "</tr>\n",
       "<tr>\n",
       "  <th></th>                     <td>- 09-30-2019</td>       <th>                     </th>     <td> </td>   \n",
       "</tr>\n",
       "</table>\n",
       "<table class=\"simpletable\">\n",
       "<tr>\n",
       "                 <td></td>                   <th>coef</th>     <th>std err</th>      <th>z</th>      <th>P>|z|</th>  <th>[0.025</th>    <th>0.975]</th>  \n",
       "</tr>\n",
       "<tr>\n",
       "  <th>const</th>                          <td>   -0.0005</td> <td>    0.016</td> <td>   -0.030</td> <td> 0.976</td> <td>   -0.031</td> <td>    0.030</td>\n",
       "</tr>\n",
       "<tr>\n",
       "  <th>ar.L1.D.Private Equity Returns</th> <td>   -0.5428</td> <td>    0.082</td> <td>   -6.602</td> <td> 0.000</td> <td>   -0.704</td> <td>   -0.382</td>\n",
       "</tr>\n",
       "<tr>\n",
       "  <th>ar.L2.D.Private Equity Returns</th> <td>    0.4392</td> <td>    0.079</td> <td>    5.582</td> <td> 0.000</td> <td>    0.285</td> <td>    0.593</td>\n",
       "</tr>\n",
       "<tr>\n",
       "  <th>ma.L1.D.Private Equity Returns</th> <td>   -0.0521</td> <td>    0.041</td> <td>   -1.257</td> <td> 0.211</td> <td>   -0.133</td> <td>    0.029</td>\n",
       "</tr>\n",
       "<tr>\n",
       "  <th>ma.L2.D.Private Equity Returns</th> <td>   -0.9478</td> <td>    0.041</td> <td>  -23.211</td> <td> 0.000</td> <td>   -1.028</td> <td>   -0.868</td>\n",
       "</tr>\n",
       "</table>\n",
       "<table class=\"simpletable\">\n",
       "<caption>Roots</caption>\n",
       "<tr>\n",
       "    <td></td>   <th>            Real</th>  <th>         Imaginary</th> <th>         Modulus</th>  <th>        Frequency</th>\n",
       "</tr>\n",
       "<tr>\n",
       "  <th>AR.1</th> <td>          -1.0126</td> <td>          +0.0000j</td> <td>           1.0126</td> <td>           0.5000</td>\n",
       "</tr>\n",
       "<tr>\n",
       "  <th>AR.2</th> <td>           2.2487</td> <td>          +0.0000j</td> <td>           2.2487</td> <td>           0.0000</td>\n",
       "</tr>\n",
       "<tr>\n",
       "  <th>MA.1</th> <td>           1.0000</td> <td>          +0.0000j</td> <td>           1.0000</td> <td>           0.0000</td>\n",
       "</tr>\n",
       "<tr>\n",
       "  <th>MA.2</th> <td>          -1.0550</td> <td>          +0.0000j</td> <td>           1.0550</td> <td>           0.5000</td>\n",
       "</tr>\n",
       "</table>"
      ],
      "text/plain": [
       "<class 'statsmodels.iolib.summary.Summary'>\n",
       "\"\"\"\n",
       "                                ARIMA Model Results                                 \n",
       "====================================================================================\n",
       "Dep. Variable:     D.Private Equity Returns   No. Observations:                  133\n",
       "Model:                       ARIMA(2, 1, 2)   Log Likelihood                -375.442\n",
       "Method:                             css-mle   S.D. of innovations              4.004\n",
       "Date:                      Wed, 03 Jun 2020   AIC                            762.883\n",
       "Time:                              19:41:28   BIC                            780.225\n",
       "Sample:                          09-30-1986   HQIC                           769.930\n",
       "                               - 09-30-2019                                         \n",
       "==================================================================================================\n",
       "                                     coef    std err          z      P>|z|      [0.025      0.975]\n",
       "--------------------------------------------------------------------------------------------------\n",
       "const                             -0.0005      0.016     -0.030      0.976      -0.031       0.030\n",
       "ar.L1.D.Private Equity Returns    -0.5428      0.082     -6.602      0.000      -0.704      -0.382\n",
       "ar.L2.D.Private Equity Returns     0.4392      0.079      5.582      0.000       0.285       0.593\n",
       "ma.L1.D.Private Equity Returns    -0.0521      0.041     -1.257      0.211      -0.133       0.029\n",
       "ma.L2.D.Private Equity Returns    -0.9478      0.041    -23.211      0.000      -1.028      -0.868\n",
       "                                    Roots                                    \n",
       "=============================================================================\n",
       "                  Real          Imaginary           Modulus         Frequency\n",
       "-----------------------------------------------------------------------------\n",
       "AR.1           -1.0126           +0.0000j            1.0126            0.5000\n",
       "AR.2            2.2487           +0.0000j            2.2487            0.0000\n",
       "MA.1            1.0000           +0.0000j            1.0000            0.0000\n",
       "MA.2           -1.0550           +0.0000j            1.0550            0.5000\n",
       "-----------------------------------------------------------------------------\n",
       "\"\"\""
      ]
     },
     "execution_count": 14,
     "metadata": {},
     "output_type": "execute_result"
    }
   ],
   "source": [
    "results.summary()"
   ]
  },
  {
   "cell_type": "code",
   "execution_count": 21,
   "metadata": {},
   "outputs": [
    {
     "data": {
      "text/plain": [
       "<matplotlib.axes._subplots.AxesSubplot at 0x10370b610>"
      ]
     },
     "execution_count": 21,
     "metadata": {},
     "output_type": "execute_result"
    },
    {
     "data": {
      "image/png": "[encoded data removed]",
      "text/plain": [
       "<Figure size 432x288 with 1 Axes>"
      ]
     },
     "metadata": {
      "needs_background": "light"
     },
     "output_type": "display_data"
    }
   ],
   "source": [
    "# Visualize the forecast\n",
    "pd.DataFrame(results.forecast(steps=5)[0]).plot(title=\"Fund Forecast Returns\")"
   ]
  },
  {
   "cell_type": "code",
   "execution_count": 22,
   "metadata": {},
   "outputs": [],
   "source": [
    "###ARMA"
   ]
  },
  {
   "cell_type": "code",
   "execution_count": 23,
   "metadata": {},
   "outputs": [],
   "source": [
    "# Import the ARMA model\n",
    "from statsmodels.tsa.arima_model import ARMA"
   ]
  },
  {
   "cell_type": "code",
   "execution_count": 25,
   "metadata": {},
   "outputs": [],
   "source": [
    "# Create the ARMA model using the return values and the order\n",
    "# For the order parameter, the first 1 indicates the number of AR lags\n",
    "# For the order parameter, the second 1 indicates the number of MA lags\n",
    "model_2 = ARMA(df['Private Equity Returns'].values, order=(1,1))"
   ]
  },
  {
   "cell_type": "code",
   "execution_count": 26,
   "metadata": {},
   "outputs": [],
   "source": [
    "# Fit the model to the data\n",
    "results_2 = model_2.fit()"
   ]
  },
  {
   "cell_type": "code",
   "execution_count": 29,
   "metadata": {},
   "outputs": [
    {
     "data": {
      "text/plain": [
       "<matplotlib.axes._subplots.AxesSubplot at 0x1448d8290>"
      ]
     },
     "execution_count": 29,
     "metadata": {},
     "output_type": "execute_result"
    },
    {
     "data": {
      "image/png": "[encoded data removed]",
      "text/plain": [
       "<Figure size 432x288 with 1 Axes>"
      ]
     },
     "metadata": {
      "needs_background": "light"
     },
     "output_type": "display_data"
    }
   ],
   "source": [
    "# Plot the forecasted return for the next 10 days\n",
    "pd.DataFrame(results_2.forecast(steps=8)[0]).plot(title=\"Fund Return Forecast\")"
   ]
  },
  {
   "cell_type": "code",
   "execution_count": 28,
   "metadata": {},
   "outputs": [
    {
     "data": {
      "text/html": [
       "<table class=\"simpletable\">\n",
       "<caption>ARMA Model Results</caption>\n",
       "<tr>\n",
       "  <th>Dep. Variable:</th>         <td>y</td>        <th>  No. Observations:  </th>    <td>134</td>  \n",
       "</tr>\n",
       "<tr>\n",
       "  <th>Model:</th>            <td>ARMA(1, 1)</td>    <th>  Log Likelihood     </th> <td>-379.716</td>\n",
       "</tr>\n",
       "<tr>\n",
       "  <th>Method:</th>             <td>css-mle</td>     <th>  S.D. of innovations</th>   <td>4.113</td> \n",
       "</tr>\n",
       "<tr>\n",
       "  <th>Date:</th>          <td>Wed, 03 Jun 2020</td> <th>  AIC                </th>  <td>767.431</td>\n",
       "</tr>\n",
       "<tr>\n",
       "  <th>Time:</th>              <td>19:50:01</td>     <th>  BIC                </th>  <td>779.022</td>\n",
       "</tr>\n",
       "<tr>\n",
       "  <th>Sample:</th>                <td>0</td>        <th>  HQIC               </th>  <td>772.141</td>\n",
       "</tr>\n",
       "<tr>\n",
       "  <th></th>                       <td> </td>        <th>                     </th>     <td> </td>   \n",
       "</tr>\n",
       "</table>\n",
       "<table class=\"simpletable\">\n",
       "<tr>\n",
       "     <td></td>        <th>coef</th>     <th>std err</th>      <th>z</th>      <th>P>|z|</th>  <th>[0.025</th>    <th>0.975]</th>  \n",
       "</tr>\n",
       "<tr>\n",
       "  <th>const</th>   <td>    3.2636</td> <td>    0.670</td> <td>    4.874</td> <td> 0.000</td> <td>    1.951</td> <td>    4.576</td>\n",
       "</tr>\n",
       "<tr>\n",
       "  <th>ar.L1.y</th> <td>    0.6496</td> <td>    0.141</td> <td>    4.605</td> <td> 0.000</td> <td>    0.373</td> <td>    0.926</td>\n",
       "</tr>\n",
       "<tr>\n",
       "  <th>ma.L1.y</th> <td>   -0.3333</td> <td>    0.170</td> <td>   -1.955</td> <td> 0.053</td> <td>   -0.667</td> <td>    0.001</td>\n",
       "</tr>\n",
       "</table>\n",
       "<table class=\"simpletable\">\n",
       "<caption>Roots</caption>\n",
       "<tr>\n",
       "    <td></td>   <th>            Real</th>  <th>         Imaginary</th> <th>         Modulus</th>  <th>        Frequency</th>\n",
       "</tr>\n",
       "<tr>\n",
       "  <th>AR.1</th> <td>           1.5393</td> <td>          +0.0000j</td> <td>           1.5393</td> <td>           0.0000</td>\n",
       "</tr>\n",
       "<tr>\n",
       "  <th>MA.1</th> <td>           3.0007</td> <td>          +0.0000j</td> <td>           3.0007</td> <td>           0.0000</td>\n",
       "</tr>\n",
       "</table>"
      ],
      "text/plain": [
       "<class 'statsmodels.iolib.summary.Summary'>\n",
       "\"\"\"\n",
       "                              ARMA Model Results                              \n",
       "==============================================================================\n",
       "Dep. Variable:                      y   No. Observations:                  134\n",
       "Model:                     ARMA(1, 1)   Log Likelihood                -379.716\n",
       "Method:                       css-mle   S.D. of innovations              4.113\n",
       "Date:                Wed, 03 Jun 2020   AIC                            767.431\n",
       "Time:                        19:50:01   BIC                            779.022\n",
       "Sample:                             0   HQIC                           772.141\n",
       "                                                                              \n",
       "==============================================================================\n",
       "                 coef    std err          z      P>|z|      [0.025      0.975]\n",
       "------------------------------------------------------------------------------\n",
       "const          3.2636      0.670      4.874      0.000       1.951       4.576\n",
       "ar.L1.y        0.6496      0.141      4.605      0.000       0.373       0.926\n",
       "ma.L1.y       -0.3333      0.170     -1.955      0.053      -0.667       0.001\n",
       "                                    Roots                                    \n",
       "=============================================================================\n",
       "                  Real          Imaginary           Modulus         Frequency\n",
       "-----------------------------------------------------------------------------\n",
       "AR.1            1.5393           +0.0000j            1.5393            0.0000\n",
       "MA.1            3.0007           +0.0000j            3.0007            0.0000\n",
       "-----------------------------------------------------------------------------\n",
       "\"\"\""
      ]
     },
     "execution_count": 28,
     "metadata": {},
     "output_type": "execute_result"
    }
   ],
   "source": [
    "# Summarize the model\n",
    "results_2.summary()"
   ]
  },
  {
   "cell_type": "code",
   "execution_count": null,
   "metadata": {},
   "outputs": [],
   "source": []
  }
 ],
 "metadata": {
  "kernelspec": {
   "display_name": "Python 3",
   "language": "python",
   "name": "python3"
  },
  "language_info": {
   "codemirror_mode": {
    "name": "ipython",
    "version": 3
   },
   "file_extension": ".py",
   "mimetype": "text/x-python",
   "name": "python",
   "nbconvert_exporter": "python",
   "pygments_lexer": "ipython3",
   "version": "3.7.4"
  }
 },
 "nbformat": 4,
 "nbformat_minor": 4
}
