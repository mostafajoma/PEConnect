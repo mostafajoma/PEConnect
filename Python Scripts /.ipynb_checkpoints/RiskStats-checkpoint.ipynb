{
 "cells": [
  {
   "cell_type": "code",
   "execution_count": 45,
   "metadata": {},
   "outputs": [],
   "source": [
    "# Initial imports\n",
    "import numpy as np\n",
    "import pandas as pd\n",
    "from pathlib import Path\n",
    "import arch as arch\n",
    "\n",
    "%matplotlib inline"
   ]
  },
  {
   "cell_type": "code",
   "execution_count": 46,
   "metadata": {},
   "outputs": [
    {
     "data": {
      "text/html": [
       "<div>\n",
       "<style scoped>\n",
       "    .dataframe tbody tr th:only-of-type {\n",
       "        vertical-align: middle;\n",
       "    }\n",
       "\n",
       "    .dataframe tbody tr th {\n",
       "        vertical-align: top;\n",
       "    }\n",
       "\n",
       "    .dataframe thead th {\n",
       "        text-align: right;\n",
       "    }\n",
       "</style>\n",
       "<table border=\"1\" class=\"dataframe\">\n",
       "  <thead>\n",
       "    <tr style=\"text-align: right;\">\n",
       "      <th></th>\n",
       "      <th>Index</th>\n",
       "      <th>Quarter</th>\n",
       "      <th>Private Equity Returns</th>\n",
       "      <th>Cumulative</th>\n",
       "      <th>100</th>\n",
       "      <th>Unnamed: 6</th>\n",
       "      <th>Unnamed: 7</th>\n",
       "    </tr>\n",
       "    <tr>\n",
       "      <th>Date</th>\n",
       "      <th></th>\n",
       "      <th></th>\n",
       "      <th></th>\n",
       "      <th></th>\n",
       "      <th></th>\n",
       "      <th></th>\n",
       "      <th></th>\n",
       "    </tr>\n",
       "  </thead>\n",
       "  <tbody>\n",
       "    <tr>\n",
       "      <td>1986-06-30</td>\n",
       "      <td>1986 Q2</td>\n",
       "      <td>Q2</td>\n",
       "      <td>4.22</td>\n",
       "      <td>104.22</td>\n",
       "      <td>104.22</td>\n",
       "      <td>NaN</td>\n",
       "      <td>NaN</td>\n",
       "    </tr>\n",
       "    <tr>\n",
       "      <td>1986-09-30</td>\n",
       "      <td>1986 Q3</td>\n",
       "      <td>Q3</td>\n",
       "      <td>-2.60</td>\n",
       "      <td>101.62</td>\n",
       "      <td>101.62</td>\n",
       "      <td>NaN</td>\n",
       "      <td>NaN</td>\n",
       "    </tr>\n",
       "    <tr>\n",
       "      <td>1986-12-31</td>\n",
       "      <td>1986 Q4</td>\n",
       "      <td>Q4</td>\n",
       "      <td>1.11</td>\n",
       "      <td>102.73</td>\n",
       "      <td>102.73</td>\n",
       "      <td>NaN</td>\n",
       "      <td>NaN</td>\n",
       "    </tr>\n",
       "    <tr>\n",
       "      <td>1987-03-31</td>\n",
       "      <td>1987 Q1</td>\n",
       "      <td>Q1</td>\n",
       "      <td>3.73</td>\n",
       "      <td>106.46</td>\n",
       "      <td>106.46</td>\n",
       "      <td>NaN</td>\n",
       "      <td>NaN</td>\n",
       "    </tr>\n",
       "    <tr>\n",
       "      <td>1987-06-30</td>\n",
       "      <td>1987 Q2</td>\n",
       "      <td>Q2</td>\n",
       "      <td>1.28</td>\n",
       "      <td>107.74</td>\n",
       "      <td>107.74</td>\n",
       "      <td>NaN</td>\n",
       "      <td>NaN</td>\n",
       "    </tr>\n",
       "    <tr>\n",
       "      <td>...</td>\n",
       "      <td>...</td>\n",
       "      <td>...</td>\n",
       "      <td>...</td>\n",
       "      <td>...</td>\n",
       "      <td>...</td>\n",
       "      <td>...</td>\n",
       "      <td>...</td>\n",
       "    </tr>\n",
       "    <tr>\n",
       "      <td>2018-09-30</td>\n",
       "      <td>2018 Q3</td>\n",
       "      <td>Q3</td>\n",
       "      <td>3.84</td>\n",
       "      <td>532.50</td>\n",
       "      <td>532.50</td>\n",
       "      <td>NaN</td>\n",
       "      <td>NaN</td>\n",
       "    </tr>\n",
       "    <tr>\n",
       "      <td>2018-12-31</td>\n",
       "      <td>2018 Q4</td>\n",
       "      <td>Q4</td>\n",
       "      <td>-1.95</td>\n",
       "      <td>530.55</td>\n",
       "      <td>530.55</td>\n",
       "      <td>NaN</td>\n",
       "      <td>NaN</td>\n",
       "    </tr>\n",
       "    <tr>\n",
       "      <td>2019-03-31</td>\n",
       "      <td>2019 Q1</td>\n",
       "      <td>Q1</td>\n",
       "      <td>4.89</td>\n",
       "      <td>535.44</td>\n",
       "      <td>535.44</td>\n",
       "      <td>NaN</td>\n",
       "      <td>NaN</td>\n",
       "    </tr>\n",
       "    <tr>\n",
       "      <td>2019-06-30</td>\n",
       "      <td>2019 Q2</td>\n",
       "      <td>Q2</td>\n",
       "      <td>3.42</td>\n",
       "      <td>538.86</td>\n",
       "      <td>538.86</td>\n",
       "      <td>NaN</td>\n",
       "      <td>NaN</td>\n",
       "    </tr>\n",
       "    <tr>\n",
       "      <td>2019-09-30</td>\n",
       "      <td>2019 Q3</td>\n",
       "      <td>Q3</td>\n",
       "      <td>1.31</td>\n",
       "      <td>540.17</td>\n",
       "      <td>540.17</td>\n",
       "      <td>NaN</td>\n",
       "      <td>NaN</td>\n",
       "    </tr>\n",
       "  </tbody>\n",
       "</table>\n",
       "<p>134 rows × 7 columns</p>\n",
       "</div>"
      ],
      "text/plain": [
       "               Index Quarter  Private Equity Returns  Cumulative     100  \\\n",
       "Date                                                                       \n",
       "1986-06-30  1986 Q2       Q2                    4.22      104.22  104.22   \n",
       "1986-09-30  1986 Q3       Q3                   -2.60      101.62  101.62   \n",
       "1986-12-31  1986 Q4       Q4                    1.11      102.73  102.73   \n",
       "1987-03-31  1987 Q1       Q1                    3.73      106.46  106.46   \n",
       "1987-06-30  1987 Q2       Q2                    1.28      107.74  107.74   \n",
       "...              ...     ...                     ...         ...     ...   \n",
       "2018-09-30  2018 Q3       Q3                    3.84      532.50  532.50   \n",
       "2018-12-31  2018 Q4       Q4                   -1.95      530.55  530.55   \n",
       "2019-03-31  2019 Q1       Q1                    4.89      535.44  535.44   \n",
       "2019-06-30  2019 Q2       Q2                    3.42      538.86  538.86   \n",
       "2019-09-30  2019 Q3       Q3                    1.31      540.17  540.17   \n",
       "\n",
       "            Unnamed: 6  Unnamed: 7  \n",
       "Date                                \n",
       "1986-06-30         NaN         NaN  \n",
       "1986-09-30         NaN         NaN  \n",
       "1986-12-31         NaN         NaN  \n",
       "1987-03-31         NaN         NaN  \n",
       "1987-06-30         NaN         NaN  \n",
       "...                ...         ...  \n",
       "2018-09-30         NaN         NaN  \n",
       "2018-12-31         NaN         NaN  \n",
       "2019-03-31         NaN         NaN  \n",
       "2019-06-30         NaN         NaN  \n",
       "2019-09-30         NaN         NaN  \n",
       "\n",
       "[134 rows x 7 columns]"
      ]
     },
     "execution_count": 46,
     "metadata": {},
     "output_type": "execute_result"
    }
   ],
   "source": [
    "file_path = Path('PrivateEquityReturnsFinal.csv')\n",
    "pe_df = pd.read_csv(file_path, parse_dates=True, index_col='Date', infer_datetime_format=True)\n",
    "pe_df"
   ]
  },
  {
   "cell_type": "code",
   "execution_count": 47,
   "metadata": {},
   "outputs": [
    {
     "data": {
      "text/html": [
       "<div>\n",
       "<style scoped>\n",
       "    .dataframe tbody tr th:only-of-type {\n",
       "        vertical-align: middle;\n",
       "    }\n",
       "\n",
       "    .dataframe tbody tr th {\n",
       "        vertical-align: top;\n",
       "    }\n",
       "\n",
       "    .dataframe thead th {\n",
       "        text-align: right;\n",
       "    }\n",
       "</style>\n",
       "<table border=\"1\" class=\"dataframe\">\n",
       "  <thead>\n",
       "    <tr style=\"text-align: right;\">\n",
       "      <th></th>\n",
       "      <th>Private Equity Returns</th>\n",
       "    </tr>\n",
       "    <tr>\n",
       "      <th>Date</th>\n",
       "      <th></th>\n",
       "    </tr>\n",
       "  </thead>\n",
       "  <tbody>\n",
       "    <tr>\n",
       "      <td>1986-06-30</td>\n",
       "      <td>4.22</td>\n",
       "    </tr>\n",
       "    <tr>\n",
       "      <td>1986-09-30</td>\n",
       "      <td>-2.60</td>\n",
       "    </tr>\n",
       "    <tr>\n",
       "      <td>1986-12-31</td>\n",
       "      <td>1.11</td>\n",
       "    </tr>\n",
       "    <tr>\n",
       "      <td>1987-03-31</td>\n",
       "      <td>3.73</td>\n",
       "    </tr>\n",
       "    <tr>\n",
       "      <td>1987-06-30</td>\n",
       "      <td>1.28</td>\n",
       "    </tr>\n",
       "    <tr>\n",
       "      <td>...</td>\n",
       "      <td>...</td>\n",
       "    </tr>\n",
       "    <tr>\n",
       "      <td>2018-09-30</td>\n",
       "      <td>3.84</td>\n",
       "    </tr>\n",
       "    <tr>\n",
       "      <td>2018-12-31</td>\n",
       "      <td>-1.95</td>\n",
       "    </tr>\n",
       "    <tr>\n",
       "      <td>2019-03-31</td>\n",
       "      <td>4.89</td>\n",
       "    </tr>\n",
       "    <tr>\n",
       "      <td>2019-06-30</td>\n",
       "      <td>3.42</td>\n",
       "    </tr>\n",
       "    <tr>\n",
       "      <td>2019-09-30</td>\n",
       "      <td>1.31</td>\n",
       "    </tr>\n",
       "  </tbody>\n",
       "</table>\n",
       "<p>134 rows × 1 columns</p>\n",
       "</div>"
      ],
      "text/plain": [
       "            Private Equity Returns\n",
       "Date                              \n",
       "1986-06-30                    4.22\n",
       "1986-09-30                   -2.60\n",
       "1986-12-31                    1.11\n",
       "1987-03-31                    3.73\n",
       "1987-06-30                    1.28\n",
       "...                            ...\n",
       "2018-09-30                    3.84\n",
       "2018-12-31                   -1.95\n",
       "2019-03-31                    4.89\n",
       "2019-06-30                    3.42\n",
       "2019-09-30                    1.31\n",
       "\n",
       "[134 rows x 1 columns]"
      ]
     },
     "execution_count": 47,
     "metadata": {},
     "output_type": "execute_result"
    }
   ],
   "source": [
    "df = pd.DataFrame(pe_df['Private Equity Returns'])\n",
    "df"
   ]
  },
  {
   "cell_type": "code",
   "execution_count": 48,
   "metadata": {},
   "outputs": [
    {
     "data": {
      "text/html": [
       "<div>\n",
       "<style scoped>\n",
       "    .dataframe tbody tr th:only-of-type {\n",
       "        vertical-align: middle;\n",
       "    }\n",
       "\n",
       "    .dataframe tbody tr th {\n",
       "        vertical-align: top;\n",
       "    }\n",
       "\n",
       "    .dataframe thead th {\n",
       "        text-align: right;\n",
       "    }\n",
       "</style>\n",
       "<table border=\"1\" class=\"dataframe\">\n",
       "  <thead>\n",
       "    <tr style=\"text-align: right;\">\n",
       "      <th></th>\n",
       "      <th>SPX_Return</th>\n",
       "    </tr>\n",
       "    <tr>\n",
       "      <th>Date</th>\n",
       "      <th></th>\n",
       "    </tr>\n",
       "  </thead>\n",
       "  <tbody>\n",
       "    <tr>\n",
       "      <td>1986-06-30</td>\n",
       "      <td>4.997907</td>\n",
       "    </tr>\n",
       "    <tr>\n",
       "      <td>1986-09-30</td>\n",
       "      <td>-7.781850</td>\n",
       "    </tr>\n",
       "    <tr>\n",
       "      <td>1986-12-31</td>\n",
       "      <td>4.690472</td>\n",
       "    </tr>\n",
       "    <tr>\n",
       "      <td>1987-03-31</td>\n",
       "      <td>20.452570</td>\n",
       "    </tr>\n",
       "    <tr>\n",
       "      <td>1987-06-30</td>\n",
       "      <td>4.216661</td>\n",
       "    </tr>\n",
       "    <tr>\n",
       "      <td>...</td>\n",
       "      <td>...</td>\n",
       "    </tr>\n",
       "    <tr>\n",
       "      <td>NaT</td>\n",
       "      <td>NaN</td>\n",
       "    </tr>\n",
       "    <tr>\n",
       "      <td>NaT</td>\n",
       "      <td>NaN</td>\n",
       "    </tr>\n",
       "    <tr>\n",
       "      <td>NaT</td>\n",
       "      <td>NaN</td>\n",
       "    </tr>\n",
       "    <tr>\n",
       "      <td>NaT</td>\n",
       "      <td>NaN</td>\n",
       "    </tr>\n",
       "    <tr>\n",
       "      <td>NaT</td>\n",
       "      <td>NaN</td>\n",
       "    </tr>\n",
       "  </tbody>\n",
       "</table>\n",
       "<p>141 rows × 1 columns</p>\n",
       "</div>"
      ],
      "text/plain": [
       "            SPX_Return\n",
       "Date                  \n",
       "1986-06-30    4.997907\n",
       "1986-09-30   -7.781850\n",
       "1986-12-31    4.690472\n",
       "1987-03-31   20.452570\n",
       "1987-06-30    4.216661\n",
       "...                ...\n",
       "NaT                NaN\n",
       "NaT                NaN\n",
       "NaT                NaN\n",
       "NaT                NaN\n",
       "NaT                NaN\n",
       "\n",
       "[141 rows x 1 columns]"
      ]
     },
     "execution_count": 48,
     "metadata": {},
     "output_type": "execute_result"
    }
   ],
   "source": [
    "file_path_2 = Path('SPXReturns.csv')\n",
    "eq_df = pd.read_csv(file_path_2, parse_dates=True, index_col='Date', infer_datetime_format=True)\n",
    "eq_df"
   ]
  },
  {
   "cell_type": "code",
   "execution_count": 49,
   "metadata": {},
   "outputs": [
    {
     "data": {
      "text/html": [
       "<div>\n",
       "<style scoped>\n",
       "    .dataframe tbody tr th:only-of-type {\n",
       "        vertical-align: middle;\n",
       "    }\n",
       "\n",
       "    .dataframe tbody tr th {\n",
       "        vertical-align: top;\n",
       "    }\n",
       "\n",
       "    .dataframe thead th {\n",
       "        text-align: right;\n",
       "    }\n",
       "</style>\n",
       "<table border=\"1\" class=\"dataframe\">\n",
       "  <thead>\n",
       "    <tr style=\"text-align: right;\">\n",
       "      <th></th>\n",
       "      <th>SPX_Return</th>\n",
       "    </tr>\n",
       "    <tr>\n",
       "      <th>Date</th>\n",
       "      <th></th>\n",
       "    </tr>\n",
       "  </thead>\n",
       "  <tbody>\n",
       "    <tr>\n",
       "      <td>1986-06-30</td>\n",
       "      <td>4.997907</td>\n",
       "    </tr>\n",
       "    <tr>\n",
       "      <td>1986-09-30</td>\n",
       "      <td>-7.781850</td>\n",
       "    </tr>\n",
       "    <tr>\n",
       "      <td>1986-12-31</td>\n",
       "      <td>4.690472</td>\n",
       "    </tr>\n",
       "    <tr>\n",
       "      <td>1987-03-31</td>\n",
       "      <td>20.452570</td>\n",
       "    </tr>\n",
       "    <tr>\n",
       "      <td>1987-06-30</td>\n",
       "      <td>4.216661</td>\n",
       "    </tr>\n",
       "    <tr>\n",
       "      <td>...</td>\n",
       "      <td>...</td>\n",
       "    </tr>\n",
       "    <tr>\n",
       "      <td>2018-09-30</td>\n",
       "      <td>7.195856</td>\n",
       "    </tr>\n",
       "    <tr>\n",
       "      <td>2018-12-31</td>\n",
       "      <td>-13.971600</td>\n",
       "    </tr>\n",
       "    <tr>\n",
       "      <td>2019-03-31</td>\n",
       "      <td>13.066200</td>\n",
       "    </tr>\n",
       "    <tr>\n",
       "      <td>2019-06-30</td>\n",
       "      <td>3.787750</td>\n",
       "    </tr>\n",
       "    <tr>\n",
       "      <td>2019-09-30</td>\n",
       "      <td>1.189084</td>\n",
       "    </tr>\n",
       "  </tbody>\n",
       "</table>\n",
       "<p>134 rows × 1 columns</p>\n",
       "</div>"
      ],
      "text/plain": [
       "            SPX_Return\n",
       "Date                  \n",
       "1986-06-30    4.997907\n",
       "1986-09-30   -7.781850\n",
       "1986-12-31    4.690472\n",
       "1987-03-31   20.452570\n",
       "1987-06-30    4.216661\n",
       "...                ...\n",
       "2018-09-30    7.195856\n",
       "2018-12-31  -13.971600\n",
       "2019-03-31   13.066200\n",
       "2019-06-30    3.787750\n",
       "2019-09-30    1.189084\n",
       "\n",
       "[134 rows x 1 columns]"
      ]
     },
     "execution_count": 49,
     "metadata": {},
     "output_type": "execute_result"
    }
   ],
   "source": [
    "eq_df.dropna()"
   ]
  },
  {
   "cell_type": "code",
   "execution_count": 50,
   "metadata": {},
   "outputs": [
    {
     "data": {
      "text/html": [
       "<div>\n",
       "<style scoped>\n",
       "    .dataframe tbody tr th:only-of-type {\n",
       "        vertical-align: middle;\n",
       "    }\n",
       "\n",
       "    .dataframe tbody tr th {\n",
       "        vertical-align: top;\n",
       "    }\n",
       "\n",
       "    .dataframe thead th {\n",
       "        text-align: right;\n",
       "    }\n",
       "</style>\n",
       "<table border=\"1\" class=\"dataframe\">\n",
       "  <thead>\n",
       "    <tr style=\"text-align: right;\">\n",
       "      <th></th>\n",
       "      <th>Private Equity Returns</th>\n",
       "      <th>SPX_Return</th>\n",
       "    </tr>\n",
       "    <tr>\n",
       "      <th>Date</th>\n",
       "      <th></th>\n",
       "      <th></th>\n",
       "    </tr>\n",
       "  </thead>\n",
       "  <tbody>\n",
       "    <tr>\n",
       "      <td>1986-06-30</td>\n",
       "      <td>4.22</td>\n",
       "      <td>4.997907</td>\n",
       "    </tr>\n",
       "    <tr>\n",
       "      <td>1986-09-30</td>\n",
       "      <td>-2.60</td>\n",
       "      <td>-7.781850</td>\n",
       "    </tr>\n",
       "    <tr>\n",
       "      <td>1986-12-31</td>\n",
       "      <td>1.11</td>\n",
       "      <td>4.690472</td>\n",
       "    </tr>\n",
       "    <tr>\n",
       "      <td>1987-03-31</td>\n",
       "      <td>3.73</td>\n",
       "      <td>20.452570</td>\n",
       "    </tr>\n",
       "    <tr>\n",
       "      <td>1987-06-30</td>\n",
       "      <td>1.28</td>\n",
       "      <td>4.216661</td>\n",
       "    </tr>\n",
       "    <tr>\n",
       "      <td>...</td>\n",
       "      <td>...</td>\n",
       "      <td>...</td>\n",
       "    </tr>\n",
       "    <tr>\n",
       "      <td>2018-09-30</td>\n",
       "      <td>3.84</td>\n",
       "      <td>7.195856</td>\n",
       "    </tr>\n",
       "    <tr>\n",
       "      <td>2018-12-31</td>\n",
       "      <td>-1.95</td>\n",
       "      <td>-13.971600</td>\n",
       "    </tr>\n",
       "    <tr>\n",
       "      <td>2019-03-31</td>\n",
       "      <td>4.89</td>\n",
       "      <td>13.066200</td>\n",
       "    </tr>\n",
       "    <tr>\n",
       "      <td>2019-06-30</td>\n",
       "      <td>3.42</td>\n",
       "      <td>3.787750</td>\n",
       "    </tr>\n",
       "    <tr>\n",
       "      <td>2019-09-30</td>\n",
       "      <td>1.31</td>\n",
       "      <td>1.189084</td>\n",
       "    </tr>\n",
       "  </tbody>\n",
       "</table>\n",
       "<p>134 rows × 2 columns</p>\n",
       "</div>"
      ],
      "text/plain": [
       "            Private Equity Returns  SPX_Return\n",
       "Date                                          \n",
       "1986-06-30                    4.22    4.997907\n",
       "1986-09-30                   -2.60   -7.781850\n",
       "1986-12-31                    1.11    4.690472\n",
       "1987-03-31                    3.73   20.452570\n",
       "1987-06-30                    1.28    4.216661\n",
       "...                            ...         ...\n",
       "2018-09-30                    3.84    7.195856\n",
       "2018-12-31                   -1.95  -13.971600\n",
       "2019-03-31                    4.89   13.066200\n",
       "2019-06-30                    3.42    3.787750\n",
       "2019-09-30                    1.31    1.189084\n",
       "\n",
       "[134 rows x 2 columns]"
      ]
     },
     "execution_count": 50,
     "metadata": {},
     "output_type": "execute_result"
    }
   ],
   "source": [
    "returns_df = pd.concat([df, eq_df], axis=1, join='inner')\n",
    "returns_df"
   ]
  },
  {
   "cell_type": "code",
   "execution_count": 51,
   "metadata": {},
   "outputs": [
    {
     "data": {
      "text/html": [
       "<div>\n",
       "<style scoped>\n",
       "    .dataframe tbody tr th:only-of-type {\n",
       "        vertical-align: middle;\n",
       "    }\n",
       "\n",
       "    .dataframe tbody tr th {\n",
       "        vertical-align: top;\n",
       "    }\n",
       "\n",
       "    .dataframe thead th {\n",
       "        text-align: right;\n",
       "    }\n",
       "</style>\n",
       "<table border=\"1\" class=\"dataframe\">\n",
       "  <thead>\n",
       "    <tr style=\"text-align: right;\">\n",
       "      <th></th>\n",
       "      <th>Private Equity Returns</th>\n",
       "      <th>SPX_Return</th>\n",
       "    </tr>\n",
       "    <tr>\n",
       "      <th>Date</th>\n",
       "      <th></th>\n",
       "      <th></th>\n",
       "    </tr>\n",
       "  </thead>\n",
       "  <tbody>\n",
       "    <tr>\n",
       "      <td>1986-06-30</td>\n",
       "      <td>NaN</td>\n",
       "      <td>NaN</td>\n",
       "    </tr>\n",
       "    <tr>\n",
       "      <td>1986-09-30</td>\n",
       "      <td>NaN</td>\n",
       "      <td>NaN</td>\n",
       "    </tr>\n",
       "    <tr>\n",
       "      <td>1986-12-31</td>\n",
       "      <td>NaN</td>\n",
       "      <td>NaN</td>\n",
       "    </tr>\n",
       "    <tr>\n",
       "      <td>1987-03-31</td>\n",
       "      <td>3.124127</td>\n",
       "      <td>11.559442</td>\n",
       "    </tr>\n",
       "    <tr>\n",
       "      <td>1987-06-30</td>\n",
       "      <td>2.610607</td>\n",
       "      <td>11.579359</td>\n",
       "    </tr>\n",
       "    <tr>\n",
       "      <td>...</td>\n",
       "      <td>...</td>\n",
       "      <td>...</td>\n",
       "    </tr>\n",
       "    <tr>\n",
       "      <td>2018-09-30</td>\n",
       "      <td>1.220174</td>\n",
       "      <td>3.782149</td>\n",
       "    </tr>\n",
       "    <tr>\n",
       "      <td>2018-12-31</td>\n",
       "      <td>3.155887</td>\n",
       "      <td>9.141159</td>\n",
       "    </tr>\n",
       "    <tr>\n",
       "      <td>2019-03-31</td>\n",
       "      <td>3.385827</td>\n",
       "      <td>11.619639</td>\n",
       "    </tr>\n",
       "    <tr>\n",
       "      <td>2019-06-30</td>\n",
       "      <td>3.063038</td>\n",
       "      <td>11.642824</td>\n",
       "    </tr>\n",
       "    <tr>\n",
       "      <td>2019-09-30</td>\n",
       "      <td>2.967596</td>\n",
       "      <td>11.218259</td>\n",
       "    </tr>\n",
       "  </tbody>\n",
       "</table>\n",
       "<p>134 rows × 2 columns</p>\n",
       "</div>"
      ],
      "text/plain": [
       "            Private Equity Returns  SPX_Return\n",
       "Date                                          \n",
       "1986-06-30                     NaN         NaN\n",
       "1986-09-30                     NaN         NaN\n",
       "1986-12-31                     NaN         NaN\n",
       "1987-03-31                3.124127   11.559442\n",
       "1987-06-30                2.610607   11.579359\n",
       "...                            ...         ...\n",
       "2018-09-30                1.220174    3.782149\n",
       "2018-12-31                3.155887    9.141159\n",
       "2019-03-31                3.385827   11.619639\n",
       "2019-06-30                3.063038   11.642824\n",
       "2019-09-30                2.967596   11.218259\n",
       "\n",
       "[134 rows x 2 columns]"
      ]
     },
     "execution_count": 51,
     "metadata": {},
     "output_type": "execute_result"
    }
   ],
   "source": [
    "#Calculating the Funds STD\n",
    "rolling_std = returns_df.rolling(window=4).std()\n",
    "rolling_std"
   ]
  },
  {
   "cell_type": "code",
   "execution_count": 52,
   "metadata": {},
   "outputs": [
    {
     "data": {
      "text/plain": [
       "<matplotlib.axes._subplots.AxesSubplot at 0x131cc9050>"
      ]
     },
     "execution_count": 52,
     "metadata": {},
     "output_type": "execute_result"
    },
    {
     "data": {
      "image/png": "[encoded data removed]",
      "text/plain": [
       "<Figure size 432x288 with 1 Axes>"
      ]
     },
     "metadata": {
      "needs_background": "light"
     },
     "output_type": "display_data"
    }
   ],
   "source": [
    "#Plotting Fund Returns STD \n",
    "rolling_std['Private Equity Returns'].plot()"
   ]
  },
  {
   "cell_type": "code",
   "execution_count": 53,
   "metadata": {},
   "outputs": [
    {
     "data": {
      "text/plain": [
       "<matplotlib.axes._subplots.AxesSubplot at 0x131cc86d0>"
      ]
     },
     "execution_count": 53,
     "metadata": {},
     "output_type": "execute_result"
    },
    {
     "data": {
      "image/png": "[encoded data removed]",
      "text/plain": [
       "<Figure size 432x288 with 1 Axes>"
      ]
     },
     "metadata": {
      "needs_background": "light"
     },
     "output_type": "display_data"
    }
   ],
   "source": [
    "#Plotting Market STD \n",
    "rolling_std['SPX_Return'].plot()"
   ]
  },
  {
   "cell_type": "code",
   "execution_count": 54,
   "metadata": {},
   "outputs": [
    {
     "data": {
      "text/plain": [
       "Date\n",
       "1986-06-30          NaN\n",
       "1986-09-30          NaN\n",
       "1986-12-31          NaN\n",
       "1987-03-31    28.902848\n",
       "1987-06-30    29.378712\n",
       "                ...    \n",
       "2018-09-30     2.426803\n",
       "2018-12-31    26.647777\n",
       "2019-03-31    35.502737\n",
       "2019-06-30    35.341702\n",
       "2019-09-30    32.614389\n",
       "Freq: Q-DEC, Length: 134, dtype: float64"
      ]
     },
     "execution_count": 54,
     "metadata": {},
     "output_type": "execute_result"
    }
   ],
   "source": [
    "#Calculating Covariance \n",
    "rolling_covariance = returns_df['Private Equity Returns'].rolling(window=4).cov(returns_df['SPX_Return'])\n",
    "rolling_covariance"
   ]
  },
  {
   "cell_type": "code",
   "execution_count": 55,
   "metadata": {},
   "outputs": [
    {
     "data": {
      "text/plain": [
       "Date\n",
       "1986-06-30           NaN\n",
       "1986-09-30           NaN\n",
       "1986-12-31           NaN\n",
       "1987-03-31    133.620695\n",
       "1987-06-30    134.081544\n",
       "                 ...    \n",
       "2018-09-30     14.304650\n",
       "2018-12-31     83.560788\n",
       "2019-03-31    135.016015\n",
       "2019-06-30    135.555341\n",
       "2019-09-30    125.849339\n",
       "Freq: Q-DEC, Name: SPX_Return, Length: 134, dtype: float64"
      ]
     },
     "execution_count": 55,
     "metadata": {},
     "output_type": "execute_result"
    }
   ],
   "source": [
    "#Calculate Rolling Variance \n",
    "rolling_variance_spx = returns_df['SPX_Return'].rolling(window=4).var()\n",
    "rolling_variance_spx"
   ]
  },
  {
   "cell_type": "code",
   "execution_count": 56,
   "metadata": {},
   "outputs": [
    {
     "data": {
      "text/plain": [
       "<matplotlib.axes._subplots.AxesSubplot at 0x131f26410>"
      ]
     },
     "execution_count": 56,
     "metadata": {},
     "output_type": "execute_result"
    },
    {
     "data": {
      "image/png": "[encoded data removed]",
      "text/plain": [
       "<Figure size 432x288 with 1 Axes>"
      ]
     },
     "metadata": {
      "needs_background": "light"
     },
     "output_type": "display_data"
    }
   ],
   "source": [
    "#Calculate the rolling 1 year beta of the Fund\n",
    "rolling_beta = rolling_covariance / rolling_variance_spx\n",
    "rolling_beta.plot()"
   ]
  },
  {
   "cell_type": "code",
   "execution_count": 57,
   "metadata": {},
   "outputs": [
    {
     "data": {
      "text/plain": [
       "1.4667395767226639"
      ]
     },
     "execution_count": 57,
     "metadata": {},
     "output_type": "execute_result"
    }
   ],
   "source": [
    "#Calculating Sharpes \n",
    "sharpe_ratio = (returns_df['Private Equity Returns'].mean()*4)/(returns_df['Private Equity Returns'].std()*np.sqrt(4))\n",
    "sharpe_ratio"
   ]
  },
  {
   "cell_type": "code",
   "execution_count": 58,
   "metadata": {},
   "outputs": [
    {
     "data": {
      "text/plain": [
       "2.2091162611940307"
      ]
     },
     "execution_count": 58,
     "metadata": {},
     "output_type": "execute_result"
    }
   ],
   "source": [
    "#Start of the Monte Carlo Analysis \n",
    "avg_qtr_return_pe = returns_df.mean()['Private Equity Returns']\n",
    "avg_qtr_return_spx = returns_df.mean()['SPX_Return']\n",
    "avg_qtr_return_spx"
   ]
  },
  {
   "cell_type": "code",
   "execution_count": 59,
   "metadata": {},
   "outputs": [
    {
     "data": {
      "text/plain": [
       "7.790332164529446"
      ]
     },
     "execution_count": 59,
     "metadata": {},
     "output_type": "execute_result"
    }
   ],
   "source": [
    "#Calculating the Std for Private Equity Returns and S&P \n",
    "std_dev_qtr_return_pe = returns_df.std()['Private Equity Returns']\n",
    "std_dev_qtr_return_spx = returns_df.std()['SPX_Return']\n",
    "std_dev_qtr_return_spx"
   ]
  },
  {
   "cell_type": "code",
   "execution_count": 60,
   "metadata": {},
   "outputs": [],
   "source": [
    "# Save the last day's closing price\n",
    "pe_last_price = returns_df['Private Equity Returns'][-1]\n",
    "spx_last_price = returns_df['SPX_Return'][-1]"
   ]
  },
  {
   "cell_type": "code",
   "execution_count": 61,
   "metadata": {},
   "outputs": [],
   "source": [
    "# Setup the Monte Carlo Parameters\n",
    "number_simulations = 500\n",
    "number_records = 4 * 30\n",
    "monte_carlo = pd.DataFrame()\n",
    "portfolio_cumulative_returns = pd.DataFrame()"
   ]
  },
  {
   "cell_type": "code",
   "execution_count": 62,
   "metadata": {},
   "outputs": [
    {
     "name": "stderr",
     "output_type": "stream",
     "text": [
      "/Users/PeterRepetto/opt/anaconda3/lib/python3.7/site-packages/ipykernel_launcher.py:13: RuntimeWarning: overflow encountered in double_scalars\n",
      "  del sys.path[0]\n",
      "/Users/PeterRepetto/opt/anaconda3/lib/python3.7/site-packages/ipykernel_launcher.py:12: RuntimeWarning: overflow encountered in double_scalars\n",
      "  if sys.path[0] == '':\n"
     ]
    },
    {
     "data": {
      "text/html": [
       "<div>\n",
       "<style scoped>\n",
       "    .dataframe tbody tr th:only-of-type {\n",
       "        vertical-align: middle;\n",
       "    }\n",
       "\n",
       "    .dataframe tbody tr th {\n",
       "        vertical-align: top;\n",
       "    }\n",
       "\n",
       "    .dataframe thead th {\n",
       "        text-align: right;\n",
       "    }\n",
       "</style>\n",
       "<table border=\"1\" class=\"dataframe\">\n",
       "  <thead>\n",
       "    <tr style=\"text-align: right;\">\n",
       "      <th></th>\n",
       "      <th>0</th>\n",
       "      <th>1</th>\n",
       "      <th>2</th>\n",
       "      <th>3</th>\n",
       "      <th>4</th>\n",
       "      <th>5</th>\n",
       "      <th>6</th>\n",
       "      <th>7</th>\n",
       "      <th>8</th>\n",
       "      <th>9</th>\n",
       "      <th>...</th>\n",
       "      <th>490</th>\n",
       "      <th>491</th>\n",
       "      <th>492</th>\n",
       "      <th>493</th>\n",
       "      <th>494</th>\n",
       "      <th>495</th>\n",
       "      <th>496</th>\n",
       "      <th>497</th>\n",
       "      <th>498</th>\n",
       "      <th>499</th>\n",
       "    </tr>\n",
       "  </thead>\n",
       "  <tbody>\n",
       "    <tr>\n",
       "      <td>0</td>\n",
       "      <td>1.000000</td>\n",
       "      <td>1.000000</td>\n",
       "      <td>1.000000</td>\n",
       "      <td>1.000000</td>\n",
       "      <td>1.000000</td>\n",
       "      <td>1.000000</td>\n",
       "      <td>1.000000</td>\n",
       "      <td>1.000000</td>\n",
       "      <td>1.000000</td>\n",
       "      <td>1.000000</td>\n",
       "      <td>...</td>\n",
       "      <td>1.000000</td>\n",
       "      <td>1.000000</td>\n",
       "      <td>1.000000</td>\n",
       "      <td>1.000000</td>\n",
       "      <td>1.000000</td>\n",
       "      <td>1.000000</td>\n",
       "      <td>1.000000</td>\n",
       "      <td>1.000000</td>\n",
       "      <td>1.000000</td>\n",
       "      <td>1.000000</td>\n",
       "    </tr>\n",
       "    <tr>\n",
       "      <td>1</td>\n",
       "      <td>6.871141</td>\n",
       "      <td>2.039810</td>\n",
       "      <td>6.341721</td>\n",
       "      <td>3.244707</td>\n",
       "      <td>4.232392</td>\n",
       "      <td>-0.071650</td>\n",
       "      <td>10.115679</td>\n",
       "      <td>6.682971</td>\n",
       "      <td>10.397296</td>\n",
       "      <td>4.850432</td>\n",
       "      <td>...</td>\n",
       "      <td>3.960007</td>\n",
       "      <td>5.711441</td>\n",
       "      <td>5.693243</td>\n",
       "      <td>-0.236220</td>\n",
       "      <td>6.778984</td>\n",
       "      <td>5.061573</td>\n",
       "      <td>2.338370</td>\n",
       "      <td>6.139940</td>\n",
       "      <td>2.033727</td>\n",
       "      <td>0.469929</td>\n",
       "    </tr>\n",
       "    <tr>\n",
       "      <td>2</td>\n",
       "      <td>12.082858</td>\n",
       "      <td>0.923492</td>\n",
       "      <td>64.432607</td>\n",
       "      <td>39.956575</td>\n",
       "      <td>-15.031213</td>\n",
       "      <td>0.103375</td>\n",
       "      <td>25.251829</td>\n",
       "      <td>15.769390</td>\n",
       "      <td>58.780563</td>\n",
       "      <td>-37.451578</td>\n",
       "      <td>...</td>\n",
       "      <td>7.909963</td>\n",
       "      <td>43.270309</td>\n",
       "      <td>-10.987636</td>\n",
       "      <td>-1.280006</td>\n",
       "      <td>85.837675</td>\n",
       "      <td>9.742100</td>\n",
       "      <td>10.391672</td>\n",
       "      <td>-36.172087</td>\n",
       "      <td>10.314593</td>\n",
       "      <td>1.400479</td>\n",
       "    </tr>\n",
       "    <tr>\n",
       "      <td>3</td>\n",
       "      <td>-8.124971</td>\n",
       "      <td>-4.805788</td>\n",
       "      <td>-64.720999</td>\n",
       "      <td>410.091859</td>\n",
       "      <td>5.077630</td>\n",
       "      <td>0.090281</td>\n",
       "      <td>223.064079</td>\n",
       "      <td>0.791682</td>\n",
       "      <td>170.515294</td>\n",
       "      <td>-140.328230</td>\n",
       "      <td>...</td>\n",
       "      <td>43.271162</td>\n",
       "      <td>281.117047</td>\n",
       "      <td>-84.369481</td>\n",
       "      <td>-9.760941</td>\n",
       "      <td>-78.882918</td>\n",
       "      <td>83.719706</td>\n",
       "      <td>41.703751</td>\n",
       "      <td>20.221011</td>\n",
       "      <td>82.825949</td>\n",
       "      <td>-1.655365</td>\n",
       "    </tr>\n",
       "    <tr>\n",
       "      <td>4</td>\n",
       "      <td>-83.653208</td>\n",
       "      <td>-1.534444</td>\n",
       "      <td>-220.898179</td>\n",
       "      <td>2831.968266</td>\n",
       "      <td>-1.578117</td>\n",
       "      <td>0.561689</td>\n",
       "      <td>60.805807</td>\n",
       "      <td>2.459535</td>\n",
       "      <td>1499.720723</td>\n",
       "      <td>-349.182200</td>\n",
       "      <td>...</td>\n",
       "      <td>259.544757</td>\n",
       "      <td>3230.065303</td>\n",
       "      <td>-927.154579</td>\n",
       "      <td>-36.353380</td>\n",
       "      <td>190.313788</td>\n",
       "      <td>388.962761</td>\n",
       "      <td>-10.699162</td>\n",
       "      <td>-93.619469</td>\n",
       "      <td>7.278062</td>\n",
       "      <td>0.779491</td>\n",
       "    </tr>\n",
       "  </tbody>\n",
       "</table>\n",
       "<p>5 rows × 500 columns</p>\n",
       "</div>"
      ],
      "text/plain": [
       "         0         1           2            3          4         5    \\\n",
       "0   1.000000  1.000000    1.000000     1.000000   1.000000  1.000000   \n",
       "1   6.871141  2.039810    6.341721     3.244707   4.232392 -0.071650   \n",
       "2  12.082858  0.923492   64.432607    39.956575 -15.031213  0.103375   \n",
       "3  -8.124971 -4.805788  -64.720999   410.091859   5.077630  0.090281   \n",
       "4 -83.653208 -1.534444 -220.898179  2831.968266  -1.578117  0.561689   \n",
       "\n",
       "          6          7            8           9    ...         490  \\\n",
       "0    1.000000   1.000000     1.000000    1.000000  ...    1.000000   \n",
       "1   10.115679   6.682971    10.397296    4.850432  ...    3.960007   \n",
       "2   25.251829  15.769390    58.780563  -37.451578  ...    7.909963   \n",
       "3  223.064079   0.791682   170.515294 -140.328230  ...   43.271162   \n",
       "4   60.805807   2.459535  1499.720723 -349.182200  ...  259.544757   \n",
       "\n",
       "           491         492        493         494         495        496  \\\n",
       "0     1.000000    1.000000   1.000000    1.000000    1.000000   1.000000   \n",
       "1     5.711441    5.693243  -0.236220    6.778984    5.061573   2.338370   \n",
       "2    43.270309  -10.987636  -1.280006   85.837675    9.742100  10.391672   \n",
       "3   281.117047  -84.369481  -9.760941  -78.882918   83.719706  41.703751   \n",
       "4  3230.065303 -927.154579 -36.353380  190.313788  388.962761 -10.699162   \n",
       "\n",
       "         497        498       499  \n",
       "0   1.000000   1.000000  1.000000  \n",
       "1   6.139940   2.033727  0.469929  \n",
       "2 -36.172087  10.314593  1.400479  \n",
       "3  20.221011  82.825949 -1.655365  \n",
       "4 -93.619469   7.278062  0.779491  \n",
       "\n",
       "[5 rows x 500 columns]"
      ]
     },
     "execution_count": 62,
     "metadata": {},
     "output_type": "execute_result"
    }
   ],
   "source": [
    "# Run the Monte Carlo Simulation\n",
    "for n in range(number_simulations):\n",
    "    \n",
    "    # Initialize last Prices\n",
    "    simulated_pe_prices = [pe_last_price]\n",
    "    simulated_spx_prices = [spx_last_price]\n",
    "    \n",
    "    # Simulate the returns for last 5 years\n",
    "    for i in range(number_records):\n",
    "        \n",
    "        # Calculate the simulated SPY and AGG prices \n",
    "        simulated_pe_price = simulated_pe_prices[-1] * (1 + np.random.normal(avg_qtr_return_pe, std_dev_qtr_return_pe))\n",
    "        simulated_spx_price = simulated_spx_prices[-1] * (1 + np.random.normal(avg_qtr_return_spx, std_dev_qtr_return_spx))\n",
    "        \n",
    "        # Append the simulated price to the list\n",
    "        simulated_pe_prices.append(simulated_pe_price)\n",
    "        simulated_spx_prices.append(simulated_spx_price)\n",
    "        \n",
    "    # Append a simulated prices of each simulation to DataFrame\n",
    "    monte_carlo[\"PE prices\"] = pd.Series(simulated_pe_prices)\n",
    "    monte_carlo[\"SPX prices\"] = pd.Series(simulated_spx_prices)\n",
    "    \n",
    "    # Calculate the daily returns of simulated prices\n",
    "    simulated_qtr_returns = monte_carlo.pct_change()\n",
    "    \n",
    "    # Set the portfolio weights (60% SPY; 40% AGG)\n",
    "    weights = [1,0]\n",
    "    \n",
    "    # Use the `dot` function with the weights to multiply weights with each column's simulated daily returns\n",
    "    portfolio_qtr_returns = simulated_qtr_returns.dot(weights)\n",
    "    \n",
    "    # Calculate the normalized, cumulative return series\n",
    "    portfolio_cumulative_returns[n] = (1 + portfolio_qtr_returns.fillna(0)).cumprod()\n",
    "    \n",
    "# Print records from the DataFrame\n",
    "portfolio_cumulative_returns.head()"
   ]
  },
  {
   "cell_type": "code",
   "execution_count": 63,
   "metadata": {},
   "outputs": [
    {
     "data": {
      "text/plain": [
       "<matplotlib.axes._subplots.AxesSubplot at 0x12dea3ad0>"
      ]
     },
     "execution_count": 63,
     "metadata": {},
     "output_type": "execute_result"
    },
    {
     "data": {
      "image/png": "[encoded data removed]",
      "text/plain": [
       "<Figure size 432x288 with 1 Axes>"
      ]
     },
     "metadata": {
      "needs_background": "light"
     },
     "output_type": "display_data"
    }
   ],
   "source": [
    "# Visualize the Simulation\n",
    "plot_title = f\"{n+1} Simulations of Cumulative Portfolio Return Trajectories Over the Next 30 Years\"\n",
    "portfolio_cumulative_returns.plot(legend=None, title=plot_title)"
   ]
  },
  {
   "cell_type": "code",
   "execution_count": null,
   "metadata": {},
   "outputs": [],
   "source": [
    "pd.DataFrame(scaled_returns).hist()"
   ]
  },
  {
   "cell_type": "code",
   "execution_count": null,
   "metadata": {},
   "outputs": [],
   "source": []
  },
  {
   "cell_type": "code",
   "execution_count": null,
   "metadata": {},
   "outputs": [],
   "source": [
    "pe_df.pe_returns.hist()"
   ]
  },
  {
   "cell_type": "code",
   "execution_count": null,
   "metadata": {},
   "outputs": [],
   "source": [
    "#pe_df = pe_df.dropna()\n",
    "#pe_df"
   ]
  },
  {
   "cell_type": "code",
   "execution_count": null,
   "metadata": {},
   "outputs": [],
   "source": [
    "#pe_2_df = pe_df.set_index(['Date'])\n",
    "#pe_2_df"
   ]
  },
  {
   "cell_type": "code",
   "execution_count": null,
   "metadata": {},
   "outputs": [],
   "source": [
    "#pe_final = pe_df['Private Equity Returns'].copy()\n",
    "#pe_final#"
   ]
  },
  {
   "cell_type": "code",
   "execution_count": null,
   "metadata": {},
   "outputs": [],
   "source": [
    "#pe_final = pd.DataFrame(columns=['Date','Private Equity Returns'])\n",
    "#pe_final"
   ]
  },
  {
   "cell_type": "code",
   "execution_count": null,
   "metadata": {},
   "outputs": [],
   "source": [
    "#pe_final = pe_final.drop([134])\n",
    "#pe_final"
   ]
  },
  {
   "cell_type": "code",
   "execution_count": null,
   "metadata": {},
   "outputs": [],
   "source": [
    "#pe_final = pe_final.set_index('Date')\n",
    "#pe_final"
   ]
  },
  {
   "cell_type": "code",
   "execution_count": null,
   "metadata": {},
   "outputs": [],
   "source": [
    "pe_df['Private Equity Returns'].plot()"
   ]
  },
  {
   "cell_type": "code",
   "execution_count": null,
   "metadata": {},
   "outputs": [],
   "source": [
    "pe_df['Cumulative'].plot()"
   ]
  },
  {
   "cell_type": "code",
   "execution_count": null,
   "metadata": {},
   "outputs": [],
   "source": [
    "pe_df = df.asfreq('Q-DEC')"
   ]
  },
  {
   "cell_type": "code",
   "execution_count": null,
   "metadata": {},
   "outputs": [],
   "source": [
    "pd.infer_freq(pe_df.index)"
   ]
  },
  {
   "cell_type": "code",
   "execution_count": null,
   "metadata": {},
   "outputs": [],
   "source": []
  },
  {
   "cell_type": "code",
   "execution_count": null,
   "metadata": {},
   "outputs": [],
   "source": [
    "from arch import arch_model"
   ]
  },
  {
   "cell_type": "code",
   "execution_count": null,
   "metadata": {},
   "outputs": [],
   "source": [
    "# 'p' and 'q'  are akin to the 'p' and 'q' of an ARMA model.\n",
    "# 'vol=\"GARCH\"' means that we're using a GARCH model.\n",
    "# The 'mean=\"Zero\"' means that we're estimating a GARCH.\n",
    "model = arch_model(pe_df.pe_returns, mean=\"Zero\", vol=\"Garch\", p=3, q=3)"
   ]
  },
  {
   "cell_type": "code",
   "execution_count": null,
   "metadata": {},
   "outputs": [],
   "source": [
    "# Fit the GARCH Model\n",
    "res = model.fit()"
   ]
  },
  {
   "cell_type": "code",
   "execution_count": null,
   "metadata": {},
   "outputs": [],
   "source": [
    "import statsmodels.api as sm"
   ]
  },
  {
   "cell_type": "code",
   "execution_count": null,
   "metadata": {},
   "outputs": [],
   "source": [
    "ts_noise, ts_trend = sm.tsa.filters.hpfilter(pe_df.pe_returns)"
   ]
  },
  {
   "cell_type": "code",
   "execution_count": null,
   "metadata": {},
   "outputs": [],
   "source": [
    "ts_noise.plot()"
   ]
  },
  {
   "cell_type": "code",
   "execution_count": null,
   "metadata": {},
   "outputs": [],
   "source": [
    "ts_trend.plot()"
   ]
  },
  {
   "cell_type": "code",
   "execution_count": null,
   "metadata": {},
   "outputs": [],
   "source": [
    "fit."
   ]
  },
  {
   "cell_type": "code",
   "execution_count": null,
   "metadata": {},
   "outputs": [],
   "source": [
    "pe_df.pe_returns.plot()"
   ]
  },
  {
   "cell_type": "code",
   "execution_count": null,
   "metadata": {},
   "outputs": [],
   "source": [
    "# Summarize the model results\n",
    "res.summary()"
   ]
  },
  {
   "cell_type": "code",
   "execution_count": null,
   "metadata": {},
   "outputs": [],
   "source": [
    "# Plot the model estimate of annualized volatility\n",
    "fig = res.plot()"
   ]
  },
  {
   "cell_type": "code",
   "execution_count": null,
   "metadata": {},
   "outputs": [],
   "source": [
    "# Construct Volatility Forecasts for the next 3 days\n",
    "forecast_horizon = 3\n",
    "# Take the last day of the data we used above. \n",
    "# If forecast horizon is 3, then the resulting 'h.1', 'h.2', and 'h.3' \n",
    "# are the forecasts for the following 3 days.\n",
    "forecasts = res.forecast(start='2019-06-30', horizon=forecast_horizon)\n",
    "forecasts.mean"
   ]
  },
  {
   "cell_type": "code",
   "execution_count": null,
   "metadata": {},
   "outputs": [],
   "source": [
    "pe_df.tail()"
   ]
  },
  {
   "cell_type": "code",
   "execution_count": null,
   "metadata": {},
   "outputs": [],
   "source": [
    "pe_df.tail()"
   ]
  },
  {
   "cell_type": "code",
   "execution_count": null,
   "metadata": {},
   "outputs": [],
   "source": [
    "forecasts = res.forecast(start='2019-12-01', horizon=3)"
   ]
  },
  {
   "cell_type": "code",
   "execution_count": null,
   "metadata": {},
   "outputs": [],
   "source": [
    "forecasts.variance"
   ]
  },
  {
   "cell_type": "code",
   "execution_count": null,
   "metadata": {},
   "outputs": [],
   "source": [
    "# Annualize the forecast\n",
    "intermediate = np.sqrt(forecasts.variance.dropna() * 12)\n",
    "intermediate"
   ]
  },
  {
   "cell_type": "code",
   "execution_count": null,
   "metadata": {},
   "outputs": [],
   "source": [
    "# The name of the column here is the date of the forecast.\n",
    "# Each row represents the forecast of volatility for the following days.\n",
    "# Transposing makes the forecast easier to plot\n",
    "final = intermediate.dropna().T\n",
    "final"
   ]
  },
  {
   "cell_type": "code",
   "execution_count": null,
   "metadata": {},
   "outputs": [],
   "source": [
    "final.plot()"
   ]
  }
 ],
 "metadata": {
  "kernelspec": {
   "display_name": "Python 3",
   "language": "python",
   "name": "python3"
  },
  "language_info": {
   "codemirror_mode": {
    "name": "ipython",
    "version": 3
   },
   "file_extension": ".py",
   "mimetype": "text/x-python",
   "name": "python",
   "nbconvert_exporter": "python",
   "pygments_lexer": "ipython3",
   "version": "3.7.4"
  }
 },
 "nbformat": 4,
 "nbformat_minor": 4
}
