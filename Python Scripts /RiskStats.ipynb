{
 "cells": [
  {
   "cell_type": "code",
   "execution_count": 1,
   "metadata": {},
   "outputs": [],
   "source": [
    "# Initial imports\n",
    "import numpy as np\n",
    "import pandas as pd\n",
    "from pathlib import Path\n",
    "import arch as arch\n",
    "\n",
    "%matplotlib inline"
   ]
  },
  {
   "cell_type": "code",
   "execution_count": 2,
   "metadata": {},
   "outputs": [
    {
     "data": {
      "text/html": [
       "<div>\n",
       "<style scoped>\n",
       "    .dataframe tbody tr th:only-of-type {\n",
       "        vertical-align: middle;\n",
       "    }\n",
       "\n",
       "    .dataframe tbody tr th {\n",
       "        vertical-align: top;\n",
       "    }\n",
       "\n",
       "    .dataframe thead th {\n",
       "        text-align: right;\n",
       "    }\n",
       "</style>\n",
       "<table border=\"1\" class=\"dataframe\">\n",
       "  <thead>\n",
       "    <tr style=\"text-align: right;\">\n",
       "      <th></th>\n",
       "      <th>Index</th>\n",
       "      <th>Quarter</th>\n",
       "      <th>Private Equity Returns</th>\n",
       "      <th>Cumulative</th>\n",
       "      <th>100</th>\n",
       "      <th>Unnamed: 6</th>\n",
       "      <th>Unnamed: 7</th>\n",
       "    </tr>\n",
       "    <tr>\n",
       "      <th>Date</th>\n",
       "      <th></th>\n",
       "      <th></th>\n",
       "      <th></th>\n",
       "      <th></th>\n",
       "      <th></th>\n",
       "      <th></th>\n",
       "      <th></th>\n",
       "    </tr>\n",
       "  </thead>\n",
       "  <tbody>\n",
       "    <tr>\n",
       "      <td>1986-06-30</td>\n",
       "      <td>1986 Q2</td>\n",
       "      <td>Q2</td>\n",
       "      <td>4.22</td>\n",
       "      <td>104.22</td>\n",
       "      <td>104.22</td>\n",
       "      <td>NaN</td>\n",
       "      <td>NaN</td>\n",
       "    </tr>\n",
       "    <tr>\n",
       "      <td>1986-09-30</td>\n",
       "      <td>1986 Q3</td>\n",
       "      <td>Q3</td>\n",
       "      <td>-2.60</td>\n",
       "      <td>101.62</td>\n",
       "      <td>101.62</td>\n",
       "      <td>NaN</td>\n",
       "      <td>NaN</td>\n",
       "    </tr>\n",
       "    <tr>\n",
       "      <td>1986-12-31</td>\n",
       "      <td>1986 Q4</td>\n",
       "      <td>Q4</td>\n",
       "      <td>1.11</td>\n",
       "      <td>102.73</td>\n",
       "      <td>102.73</td>\n",
       "      <td>NaN</td>\n",
       "      <td>NaN</td>\n",
       "    </tr>\n",
       "    <tr>\n",
       "      <td>1987-03-31</td>\n",
       "      <td>1987 Q1</td>\n",
       "      <td>Q1</td>\n",
       "      <td>3.73</td>\n",
       "      <td>106.46</td>\n",
       "      <td>106.46</td>\n",
       "      <td>NaN</td>\n",
       "      <td>NaN</td>\n",
       "    </tr>\n",
       "    <tr>\n",
       "      <td>1987-06-30</td>\n",
       "      <td>1987 Q2</td>\n",
       "      <td>Q2</td>\n",
       "      <td>1.28</td>\n",
       "      <td>107.74</td>\n",
       "      <td>107.74</td>\n",
       "      <td>NaN</td>\n",
       "      <td>NaN</td>\n",
       "    </tr>\n",
       "    <tr>\n",
       "      <td>...</td>\n",
       "      <td>...</td>\n",
       "      <td>...</td>\n",
       "      <td>...</td>\n",
       "      <td>...</td>\n",
       "      <td>...</td>\n",
       "      <td>...</td>\n",
       "      <td>...</td>\n",
       "    </tr>\n",
       "    <tr>\n",
       "      <td>2018-09-30</td>\n",
       "      <td>2018 Q3</td>\n",
       "      <td>Q3</td>\n",
       "      <td>3.84</td>\n",
       "      <td>532.50</td>\n",
       "      <td>532.50</td>\n",
       "      <td>NaN</td>\n",
       "      <td>NaN</td>\n",
       "    </tr>\n",
       "    <tr>\n",
       "      <td>2018-12-31</td>\n",
       "      <td>2018 Q4</td>\n",
       "      <td>Q4</td>\n",
       "      <td>-1.95</td>\n",
       "      <td>530.55</td>\n",
       "      <td>530.55</td>\n",
       "      <td>NaN</td>\n",
       "      <td>NaN</td>\n",
       "    </tr>\n",
       "    <tr>\n",
       "      <td>2019-03-31</td>\n",
       "      <td>2019 Q1</td>\n",
       "      <td>Q1</td>\n",
       "      <td>4.89</td>\n",
       "      <td>535.44</td>\n",
       "      <td>535.44</td>\n",
       "      <td>NaN</td>\n",
       "      <td>NaN</td>\n",
       "    </tr>\n",
       "    <tr>\n",
       "      <td>2019-06-30</td>\n",
       "      <td>2019 Q2</td>\n",
       "      <td>Q2</td>\n",
       "      <td>3.42</td>\n",
       "      <td>538.86</td>\n",
       "      <td>538.86</td>\n",
       "      <td>NaN</td>\n",
       "      <td>NaN</td>\n",
       "    </tr>\n",
       "    <tr>\n",
       "      <td>2019-09-30</td>\n",
       "      <td>2019 Q3</td>\n",
       "      <td>Q3</td>\n",
       "      <td>1.31</td>\n",
       "      <td>540.17</td>\n",
       "      <td>540.17</td>\n",
       "      <td>NaN</td>\n",
       "      <td>NaN</td>\n",
       "    </tr>\n",
       "  </tbody>\n",
       "</table>\n",
       "<p>134 rows × 7 columns</p>\n",
       "</div>"
      ],
      "text/plain": [
       "               Index Quarter  Private Equity Returns  Cumulative     100  \\\n",
       "Date                                                                       \n",
       "1986-06-30  1986 Q2       Q2                    4.22      104.22  104.22   \n",
       "1986-09-30  1986 Q3       Q3                   -2.60      101.62  101.62   \n",
       "1986-12-31  1986 Q4       Q4                    1.11      102.73  102.73   \n",
       "1987-03-31  1987 Q1       Q1                    3.73      106.46  106.46   \n",
       "1987-06-30  1987 Q2       Q2                    1.28      107.74  107.74   \n",
       "...              ...     ...                     ...         ...     ...   \n",
       "2018-09-30  2018 Q3       Q3                    3.84      532.50  532.50   \n",
       "2018-12-31  2018 Q4       Q4                   -1.95      530.55  530.55   \n",
       "2019-03-31  2019 Q1       Q1                    4.89      535.44  535.44   \n",
       "2019-06-30  2019 Q2       Q2                    3.42      538.86  538.86   \n",
       "2019-09-30  2019 Q3       Q3                    1.31      540.17  540.17   \n",
       "\n",
       "            Unnamed: 6  Unnamed: 7  \n",
       "Date                                \n",
       "1986-06-30         NaN         NaN  \n",
       "1986-09-30         NaN         NaN  \n",
       "1986-12-31         NaN         NaN  \n",
       "1987-03-31         NaN         NaN  \n",
       "1987-06-30         NaN         NaN  \n",
       "...                ...         ...  \n",
       "2018-09-30         NaN         NaN  \n",
       "2018-12-31         NaN         NaN  \n",
       "2019-03-31         NaN         NaN  \n",
       "2019-06-30         NaN         NaN  \n",
       "2019-09-30         NaN         NaN  \n",
       "\n",
       "[134 rows x 7 columns]"
      ]
     },
     "execution_count": 2,
     "metadata": {},
     "output_type": "execute_result"
    }
   ],
   "source": [
    "file_path = Path('PrivateEquityReturnsFinal.csv')\n",
    "pe_df = pd.read_csv(file_path, parse_dates=True, index_col='Date', infer_datetime_format=True)\n",
    "pe_df"
   ]
  },
  {
   "cell_type": "code",
   "execution_count": 3,
   "metadata": {},
   "outputs": [
    {
     "data": {
      "text/html": [
       "<div>\n",
       "<style scoped>\n",
       "    .dataframe tbody tr th:only-of-type {\n",
       "        vertical-align: middle;\n",
       "    }\n",
       "\n",
       "    .dataframe tbody tr th {\n",
       "        vertical-align: top;\n",
       "    }\n",
       "\n",
       "    .dataframe thead th {\n",
       "        text-align: right;\n",
       "    }\n",
       "</style>\n",
       "<table border=\"1\" class=\"dataframe\">\n",
       "  <thead>\n",
       "    <tr style=\"text-align: right;\">\n",
       "      <th></th>\n",
       "      <th>Private Equity Returns</th>\n",
       "    </tr>\n",
       "    <tr>\n",
       "      <th>Date</th>\n",
       "      <th></th>\n",
       "    </tr>\n",
       "  </thead>\n",
       "  <tbody>\n",
       "    <tr>\n",
       "      <td>1986-06-30</td>\n",
       "      <td>4.22</td>\n",
       "    </tr>\n",
       "    <tr>\n",
       "      <td>1986-09-30</td>\n",
       "      <td>-2.60</td>\n",
       "    </tr>\n",
       "    <tr>\n",
       "      <td>1986-12-31</td>\n",
       "      <td>1.11</td>\n",
       "    </tr>\n",
       "    <tr>\n",
       "      <td>1987-03-31</td>\n",
       "      <td>3.73</td>\n",
       "    </tr>\n",
       "    <tr>\n",
       "      <td>1987-06-30</td>\n",
       "      <td>1.28</td>\n",
       "    </tr>\n",
       "    <tr>\n",
       "      <td>...</td>\n",
       "      <td>...</td>\n",
       "    </tr>\n",
       "    <tr>\n",
       "      <td>2018-09-30</td>\n",
       "      <td>3.84</td>\n",
       "    </tr>\n",
       "    <tr>\n",
       "      <td>2018-12-31</td>\n",
       "      <td>-1.95</td>\n",
       "    </tr>\n",
       "    <tr>\n",
       "      <td>2019-03-31</td>\n",
       "      <td>4.89</td>\n",
       "    </tr>\n",
       "    <tr>\n",
       "      <td>2019-06-30</td>\n",
       "      <td>3.42</td>\n",
       "    </tr>\n",
       "    <tr>\n",
       "      <td>2019-09-30</td>\n",
       "      <td>1.31</td>\n",
       "    </tr>\n",
       "  </tbody>\n",
       "</table>\n",
       "<p>134 rows × 1 columns</p>\n",
       "</div>"
      ],
      "text/plain": [
       "            Private Equity Returns\n",
       "Date                              \n",
       "1986-06-30                    4.22\n",
       "1986-09-30                   -2.60\n",
       "1986-12-31                    1.11\n",
       "1987-03-31                    3.73\n",
       "1987-06-30                    1.28\n",
       "...                            ...\n",
       "2018-09-30                    3.84\n",
       "2018-12-31                   -1.95\n",
       "2019-03-31                    4.89\n",
       "2019-06-30                    3.42\n",
       "2019-09-30                    1.31\n",
       "\n",
       "[134 rows x 1 columns]"
      ]
     },
     "execution_count": 3,
     "metadata": {},
     "output_type": "execute_result"
    }
   ],
   "source": [
    "df = pd.DataFrame(pe_df['Private Equity Returns'])\n",
    "df"
   ]
  },
  {
   "cell_type": "code",
   "execution_count": 4,
   "metadata": {},
   "outputs": [
    {
     "data": {
      "text/html": [
       "<div>\n",
       "<style scoped>\n",
       "    .dataframe tbody tr th:only-of-type {\n",
       "        vertical-align: middle;\n",
       "    }\n",
       "\n",
       "    .dataframe tbody tr th {\n",
       "        vertical-align: top;\n",
       "    }\n",
       "\n",
       "    .dataframe thead th {\n",
       "        text-align: right;\n",
       "    }\n",
       "</style>\n",
       "<table border=\"1\" class=\"dataframe\">\n",
       "  <thead>\n",
       "    <tr style=\"text-align: right;\">\n",
       "      <th></th>\n",
       "      <th>SPX_Return</th>\n",
       "      <th>Gold_Return</th>\n",
       "      <th>10_Year_Return</th>\n",
       "      <th>NDX_Return</th>\n",
       "    </tr>\n",
       "    <tr>\n",
       "      <th>Date</th>\n",
       "      <th></th>\n",
       "      <th></th>\n",
       "      <th></th>\n",
       "      <th></th>\n",
       "    </tr>\n",
       "  </thead>\n",
       "  <tbody>\n",
       "    <tr>\n",
       "      <td>1986-06-30</td>\n",
       "      <td>4.997907</td>\n",
       "      <td>-4.392760</td>\n",
       "      <td>1.754386</td>\n",
       "      <td>2.843636</td>\n",
       "    </tr>\n",
       "    <tr>\n",
       "      <td>1986-09-30</td>\n",
       "      <td>-7.781850</td>\n",
       "      <td>2.702703</td>\n",
       "      <td>-0.967940</td>\n",
       "      <td>31.560710</td>\n",
       "    </tr>\n",
       "    <tr>\n",
       "      <td>1986-12-31</td>\n",
       "      <td>4.690472</td>\n",
       "      <td>8.181818</td>\n",
       "      <td>-5.894930</td>\n",
       "      <td>1.720060</td>\n",
       "    </tr>\n",
       "    <tr>\n",
       "      <td>1987-03-31</td>\n",
       "      <td>20.452570</td>\n",
       "      <td>0.110571</td>\n",
       "      <td>-7.530020</td>\n",
       "      <td>8.592264</td>\n",
       "    </tr>\n",
       "    <tr>\n",
       "      <td>1987-06-30</td>\n",
       "      <td>4.216661</td>\n",
       "      <td>7.996466</td>\n",
       "      <td>5.159705</td>\n",
       "      <td>-23.965900</td>\n",
       "    </tr>\n",
       "    <tr>\n",
       "      <td>...</td>\n",
       "      <td>...</td>\n",
       "      <td>...</td>\n",
       "      <td>...</td>\n",
       "      <td>...</td>\n",
       "    </tr>\n",
       "    <tr>\n",
       "      <td>NaT</td>\n",
       "      <td>NaN</td>\n",
       "      <td>NaN</td>\n",
       "      <td>NaN</td>\n",
       "      <td>NaN</td>\n",
       "    </tr>\n",
       "    <tr>\n",
       "      <td>NaT</td>\n",
       "      <td>NaN</td>\n",
       "      <td>NaN</td>\n",
       "      <td>NaN</td>\n",
       "      <td>NaN</td>\n",
       "    </tr>\n",
       "    <tr>\n",
       "      <td>NaT</td>\n",
       "      <td>NaN</td>\n",
       "      <td>NaN</td>\n",
       "      <td>NaN</td>\n",
       "      <td>NaN</td>\n",
       "    </tr>\n",
       "    <tr>\n",
       "      <td>NaT</td>\n",
       "      <td>NaN</td>\n",
       "      <td>NaN</td>\n",
       "      <td>NaN</td>\n",
       "      <td>NaN</td>\n",
       "    </tr>\n",
       "    <tr>\n",
       "      <td>NaT</td>\n",
       "      <td>NaN</td>\n",
       "      <td>NaN</td>\n",
       "      <td>NaN</td>\n",
       "      <td>NaN</td>\n",
       "    </tr>\n",
       "  </tbody>\n",
       "</table>\n",
       "<p>141 rows × 4 columns</p>\n",
       "</div>"
      ],
      "text/plain": [
       "            SPX_Return  Gold_Return  10_Year_Return  NDX_Return\n",
       "Date                                                           \n",
       "1986-06-30    4.997907    -4.392760        1.754386    2.843636\n",
       "1986-09-30   -7.781850     2.702703       -0.967940   31.560710\n",
       "1986-12-31    4.690472     8.181818       -5.894930    1.720060\n",
       "1987-03-31   20.452570     0.110571       -7.530020    8.592264\n",
       "1987-06-30    4.216661     7.996466        5.159705  -23.965900\n",
       "...                ...          ...             ...         ...\n",
       "NaT                NaN          NaN             NaN         NaN\n",
       "NaT                NaN          NaN             NaN         NaN\n",
       "NaT                NaN          NaN             NaN         NaN\n",
       "NaT                NaN          NaN             NaN         NaN\n",
       "NaT                NaN          NaN             NaN         NaN\n",
       "\n",
       "[141 rows x 4 columns]"
      ]
     },
     "execution_count": 4,
     "metadata": {},
     "output_type": "execute_result"
    }
   ],
   "source": [
    "file_path_2 = Path('SPXReturns.csv')\n",
    "eq_df = pd.read_csv(file_path_2, parse_dates=True, index_col='Date', infer_datetime_format=True)\n",
    "eq_df"
   ]
  },
  {
   "cell_type": "code",
   "execution_count": 5,
   "metadata": {},
   "outputs": [
    {
     "data": {
      "text/html": [
       "<div>\n",
       "<style scoped>\n",
       "    .dataframe tbody tr th:only-of-type {\n",
       "        vertical-align: middle;\n",
       "    }\n",
       "\n",
       "    .dataframe tbody tr th {\n",
       "        vertical-align: top;\n",
       "    }\n",
       "\n",
       "    .dataframe thead th {\n",
       "        text-align: right;\n",
       "    }\n",
       "</style>\n",
       "<table border=\"1\" class=\"dataframe\">\n",
       "  <thead>\n",
       "    <tr style=\"text-align: right;\">\n",
       "      <th></th>\n",
       "      <th>SPX_Return</th>\n",
       "      <th>Gold_Return</th>\n",
       "      <th>10_Year_Return</th>\n",
       "      <th>NDX_Return</th>\n",
       "    </tr>\n",
       "    <tr>\n",
       "      <th>Date</th>\n",
       "      <th></th>\n",
       "      <th></th>\n",
       "      <th></th>\n",
       "      <th></th>\n",
       "    </tr>\n",
       "  </thead>\n",
       "  <tbody>\n",
       "    <tr>\n",
       "      <td>1986-06-30</td>\n",
       "      <td>4.997907</td>\n",
       "      <td>-4.392760</td>\n",
       "      <td>1.754386</td>\n",
       "      <td>2.843636</td>\n",
       "    </tr>\n",
       "    <tr>\n",
       "      <td>1986-09-30</td>\n",
       "      <td>-7.781850</td>\n",
       "      <td>2.702703</td>\n",
       "      <td>-0.967940</td>\n",
       "      <td>31.560710</td>\n",
       "    </tr>\n",
       "    <tr>\n",
       "      <td>1986-12-31</td>\n",
       "      <td>4.690472</td>\n",
       "      <td>8.181818</td>\n",
       "      <td>-5.894930</td>\n",
       "      <td>1.720060</td>\n",
       "    </tr>\n",
       "    <tr>\n",
       "      <td>1987-03-31</td>\n",
       "      <td>20.452570</td>\n",
       "      <td>0.110571</td>\n",
       "      <td>-7.530020</td>\n",
       "      <td>8.592264</td>\n",
       "    </tr>\n",
       "    <tr>\n",
       "      <td>1987-06-30</td>\n",
       "      <td>4.216661</td>\n",
       "      <td>7.996466</td>\n",
       "      <td>5.159705</td>\n",
       "      <td>-23.965900</td>\n",
       "    </tr>\n",
       "    <tr>\n",
       "      <td>...</td>\n",
       "      <td>...</td>\n",
       "      <td>...</td>\n",
       "      <td>...</td>\n",
       "      <td>...</td>\n",
       "    </tr>\n",
       "    <tr>\n",
       "      <td>2018-09-30</td>\n",
       "      <td>7.195856</td>\n",
       "      <td>0.913135</td>\n",
       "      <td>1.805609</td>\n",
       "      <td>16.568930</td>\n",
       "    </tr>\n",
       "    <tr>\n",
       "      <td>2018-12-31</td>\n",
       "      <td>-13.971600</td>\n",
       "      <td>9.334880</td>\n",
       "      <td>3.018868</td>\n",
       "      <td>3.961419</td>\n",
       "    </tr>\n",
       "    <tr>\n",
       "      <td>2019-03-31</td>\n",
       "      <td>13.066200</td>\n",
       "      <td>3.678291</td>\n",
       "      <td>1.831502</td>\n",
       "      <td>1.021682</td>\n",
       "    </tr>\n",
       "    <tr>\n",
       "      <td>2019-06-30</td>\n",
       "      <td>3.787750</td>\n",
       "      <td>3.916218</td>\n",
       "      <td>-1.450840</td>\n",
       "      <td>12.692820</td>\n",
       "    </tr>\n",
       "    <tr>\n",
       "      <td>2019-09-30</td>\n",
       "      <td>1.189084</td>\n",
       "      <td>3.959031</td>\n",
       "      <td>7.993673</td>\n",
       "      <td>-10.529800</td>\n",
       "    </tr>\n",
       "  </tbody>\n",
       "</table>\n",
       "<p>134 rows × 4 columns</p>\n",
       "</div>"
      ],
      "text/plain": [
       "            SPX_Return  Gold_Return  10_Year_Return  NDX_Return\n",
       "Date                                                           \n",
       "1986-06-30    4.997907    -4.392760        1.754386    2.843636\n",
       "1986-09-30   -7.781850     2.702703       -0.967940   31.560710\n",
       "1986-12-31    4.690472     8.181818       -5.894930    1.720060\n",
       "1987-03-31   20.452570     0.110571       -7.530020    8.592264\n",
       "1987-06-30    4.216661     7.996466        5.159705  -23.965900\n",
       "...                ...          ...             ...         ...\n",
       "2018-09-30    7.195856     0.913135        1.805609   16.568930\n",
       "2018-12-31  -13.971600     9.334880        3.018868    3.961419\n",
       "2019-03-31   13.066200     3.678291        1.831502    1.021682\n",
       "2019-06-30    3.787750     3.916218       -1.450840   12.692820\n",
       "2019-09-30    1.189084     3.959031        7.993673  -10.529800\n",
       "\n",
       "[134 rows x 4 columns]"
      ]
     },
     "execution_count": 5,
     "metadata": {},
     "output_type": "execute_result"
    }
   ],
   "source": [
    "eq_df.dropna()"
   ]
  },
  {
   "cell_type": "code",
   "execution_count": 6,
   "metadata": {},
   "outputs": [
    {
     "data": {
      "text/html": [
       "<div>\n",
       "<style scoped>\n",
       "    .dataframe tbody tr th:only-of-type {\n",
       "        vertical-align: middle;\n",
       "    }\n",
       "\n",
       "    .dataframe tbody tr th {\n",
       "        vertical-align: top;\n",
       "    }\n",
       "\n",
       "    .dataframe thead th {\n",
       "        text-align: right;\n",
       "    }\n",
       "</style>\n",
       "<table border=\"1\" class=\"dataframe\">\n",
       "  <thead>\n",
       "    <tr style=\"text-align: right;\">\n",
       "      <th></th>\n",
       "      <th>Private Equity Returns</th>\n",
       "      <th>SPX_Return</th>\n",
       "      <th>Gold_Return</th>\n",
       "      <th>10_Year_Return</th>\n",
       "      <th>NDX_Return</th>\n",
       "    </tr>\n",
       "    <tr>\n",
       "      <th>Date</th>\n",
       "      <th></th>\n",
       "      <th></th>\n",
       "      <th></th>\n",
       "      <th></th>\n",
       "      <th></th>\n",
       "    </tr>\n",
       "  </thead>\n",
       "  <tbody>\n",
       "    <tr>\n",
       "      <td>1986-06-30</td>\n",
       "      <td>4.22</td>\n",
       "      <td>4.997907</td>\n",
       "      <td>-4.392760</td>\n",
       "      <td>1.754386</td>\n",
       "      <td>2.843636</td>\n",
       "    </tr>\n",
       "    <tr>\n",
       "      <td>1986-09-30</td>\n",
       "      <td>-2.60</td>\n",
       "      <td>-7.781850</td>\n",
       "      <td>2.702703</td>\n",
       "      <td>-0.967940</td>\n",
       "      <td>31.560710</td>\n",
       "    </tr>\n",
       "    <tr>\n",
       "      <td>1986-12-31</td>\n",
       "      <td>1.11</td>\n",
       "      <td>4.690472</td>\n",
       "      <td>8.181818</td>\n",
       "      <td>-5.894930</td>\n",
       "      <td>1.720060</td>\n",
       "    </tr>\n",
       "    <tr>\n",
       "      <td>1987-03-31</td>\n",
       "      <td>3.73</td>\n",
       "      <td>20.452570</td>\n",
       "      <td>0.110571</td>\n",
       "      <td>-7.530020</td>\n",
       "      <td>8.592264</td>\n",
       "    </tr>\n",
       "    <tr>\n",
       "      <td>1987-06-30</td>\n",
       "      <td>1.28</td>\n",
       "      <td>4.216661</td>\n",
       "      <td>7.996466</td>\n",
       "      <td>5.159705</td>\n",
       "      <td>-23.965900</td>\n",
       "    </tr>\n",
       "    <tr>\n",
       "      <td>...</td>\n",
       "      <td>...</td>\n",
       "      <td>...</td>\n",
       "      <td>...</td>\n",
       "      <td>...</td>\n",
       "      <td>...</td>\n",
       "    </tr>\n",
       "    <tr>\n",
       "      <td>2018-09-30</td>\n",
       "      <td>3.84</td>\n",
       "      <td>7.195856</td>\n",
       "      <td>0.913135</td>\n",
       "      <td>1.805609</td>\n",
       "      <td>16.568930</td>\n",
       "    </tr>\n",
       "    <tr>\n",
       "      <td>2018-12-31</td>\n",
       "      <td>-1.95</td>\n",
       "      <td>-13.971600</td>\n",
       "      <td>9.334880</td>\n",
       "      <td>3.018868</td>\n",
       "      <td>3.961419</td>\n",
       "    </tr>\n",
       "    <tr>\n",
       "      <td>2019-03-31</td>\n",
       "      <td>4.89</td>\n",
       "      <td>13.066200</td>\n",
       "      <td>3.678291</td>\n",
       "      <td>1.831502</td>\n",
       "      <td>1.021682</td>\n",
       "    </tr>\n",
       "    <tr>\n",
       "      <td>2019-06-30</td>\n",
       "      <td>3.42</td>\n",
       "      <td>3.787750</td>\n",
       "      <td>3.916218</td>\n",
       "      <td>-1.450840</td>\n",
       "      <td>12.692820</td>\n",
       "    </tr>\n",
       "    <tr>\n",
       "      <td>2019-09-30</td>\n",
       "      <td>1.31</td>\n",
       "      <td>1.189084</td>\n",
       "      <td>3.959031</td>\n",
       "      <td>7.993673</td>\n",
       "      <td>-10.529800</td>\n",
       "    </tr>\n",
       "  </tbody>\n",
       "</table>\n",
       "<p>134 rows × 5 columns</p>\n",
       "</div>"
      ],
      "text/plain": [
       "            Private Equity Returns  SPX_Return  Gold_Return  10_Year_Return  \\\n",
       "Date                                                                          \n",
       "1986-06-30                    4.22    4.997907    -4.392760        1.754386   \n",
       "1986-09-30                   -2.60   -7.781850     2.702703       -0.967940   \n",
       "1986-12-31                    1.11    4.690472     8.181818       -5.894930   \n",
       "1987-03-31                    3.73   20.452570     0.110571       -7.530020   \n",
       "1987-06-30                    1.28    4.216661     7.996466        5.159705   \n",
       "...                            ...         ...          ...             ...   \n",
       "2018-09-30                    3.84    7.195856     0.913135        1.805609   \n",
       "2018-12-31                   -1.95  -13.971600     9.334880        3.018868   \n",
       "2019-03-31                    4.89   13.066200     3.678291        1.831502   \n",
       "2019-06-30                    3.42    3.787750     3.916218       -1.450840   \n",
       "2019-09-30                    1.31    1.189084     3.959031        7.993673   \n",
       "\n",
       "            NDX_Return  \n",
       "Date                    \n",
       "1986-06-30    2.843636  \n",
       "1986-09-30   31.560710  \n",
       "1986-12-31    1.720060  \n",
       "1987-03-31    8.592264  \n",
       "1987-06-30  -23.965900  \n",
       "...                ...  \n",
       "2018-09-30   16.568930  \n",
       "2018-12-31    3.961419  \n",
       "2019-03-31    1.021682  \n",
       "2019-06-30   12.692820  \n",
       "2019-09-30  -10.529800  \n",
       "\n",
       "[134 rows x 5 columns]"
      ]
     },
     "execution_count": 6,
     "metadata": {},
     "output_type": "execute_result"
    }
   ],
   "source": [
    "returns_df = pd.concat([df, eq_df], axis=1, join='inner')\n",
    "returns_df"
   ]
  },
  {
   "cell_type": "code",
   "execution_count": 7,
   "metadata": {},
   "outputs": [
    {
     "data": {
      "text/html": [
       "<div>\n",
       "<style scoped>\n",
       "    .dataframe tbody tr th:only-of-type {\n",
       "        vertical-align: middle;\n",
       "    }\n",
       "\n",
       "    .dataframe tbody tr th {\n",
       "        vertical-align: top;\n",
       "    }\n",
       "\n",
       "    .dataframe thead th {\n",
       "        text-align: right;\n",
       "    }\n",
       "</style>\n",
       "<table border=\"1\" class=\"dataframe\">\n",
       "  <thead>\n",
       "    <tr style=\"text-align: right;\">\n",
       "      <th></th>\n",
       "      <th>Private Equity Returns</th>\n",
       "      <th>SPX_Return</th>\n",
       "      <th>Gold_Return</th>\n",
       "      <th>10_Year_Return</th>\n",
       "      <th>NDX_Return</th>\n",
       "    </tr>\n",
       "    <tr>\n",
       "      <th>Date</th>\n",
       "      <th></th>\n",
       "      <th></th>\n",
       "      <th></th>\n",
       "      <th></th>\n",
       "      <th></th>\n",
       "    </tr>\n",
       "  </thead>\n",
       "  <tbody>\n",
       "    <tr>\n",
       "      <td>1986-06-30</td>\n",
       "      <td>NaN</td>\n",
       "      <td>NaN</td>\n",
       "      <td>NaN</td>\n",
       "      <td>NaN</td>\n",
       "      <td>NaN</td>\n",
       "    </tr>\n",
       "    <tr>\n",
       "      <td>1986-09-30</td>\n",
       "      <td>NaN</td>\n",
       "      <td>NaN</td>\n",
       "      <td>NaN</td>\n",
       "      <td>NaN</td>\n",
       "      <td>NaN</td>\n",
       "    </tr>\n",
       "    <tr>\n",
       "      <td>1986-12-31</td>\n",
       "      <td>NaN</td>\n",
       "      <td>NaN</td>\n",
       "      <td>NaN</td>\n",
       "      <td>NaN</td>\n",
       "      <td>NaN</td>\n",
       "    </tr>\n",
       "    <tr>\n",
       "      <td>1987-03-31</td>\n",
       "      <td>3.124127</td>\n",
       "      <td>11.559442</td>\n",
       "      <td>5.249051</td>\n",
       "      <td>4.302450</td>\n",
       "      <td>13.917078</td>\n",
       "    </tr>\n",
       "    <tr>\n",
       "      <td>1987-06-30</td>\n",
       "      <td>2.610607</td>\n",
       "      <td>11.579359</td>\n",
       "      <td>4.001359</td>\n",
       "      <td>5.706661</td>\n",
       "      <td>22.855065</td>\n",
       "    </tr>\n",
       "    <tr>\n",
       "      <td>...</td>\n",
       "      <td>...</td>\n",
       "      <td>...</td>\n",
       "      <td>...</td>\n",
       "      <td>...</td>\n",
       "      <td>...</td>\n",
       "    </tr>\n",
       "    <tr>\n",
       "      <td>2018-09-30</td>\n",
       "      <td>1.220174</td>\n",
       "      <td>3.782149</td>\n",
       "      <td>6.021138</td>\n",
       "      <td>1.915670</td>\n",
       "      <td>14.455733</td>\n",
       "    </tr>\n",
       "    <tr>\n",
       "      <td>2018-12-31</td>\n",
       "      <td>3.155887</td>\n",
       "      <td>9.141159</td>\n",
       "      <td>6.564380</td>\n",
       "      <td>1.913946</td>\n",
       "      <td>14.306324</td>\n",
       "    </tr>\n",
       "    <tr>\n",
       "      <td>2019-03-31</td>\n",
       "      <td>3.385827</td>\n",
       "      <td>11.619639</td>\n",
       "      <td>3.792114</td>\n",
       "      <td>0.619564</td>\n",
       "      <td>13.851040</td>\n",
       "    </tr>\n",
       "    <tr>\n",
       "      <td>2019-06-30</td>\n",
       "      <td>3.063038</td>\n",
       "      <td>11.642824</td>\n",
       "      <td>3.523799</td>\n",
       "      <td>1.920048</td>\n",
       "      <td>7.284603</td>\n",
       "    </tr>\n",
       "    <tr>\n",
       "      <td>2019-09-30</td>\n",
       "      <td>2.967596</td>\n",
       "      <td>11.218259</td>\n",
       "      <td>2.744630</td>\n",
       "      <td>3.916650</td>\n",
       "      <td>9.590869</td>\n",
       "    </tr>\n",
       "  </tbody>\n",
       "</table>\n",
       "<p>134 rows × 5 columns</p>\n",
       "</div>"
      ],
      "text/plain": [
       "            Private Equity Returns  SPX_Return  Gold_Return  10_Year_Return  \\\n",
       "Date                                                                          \n",
       "1986-06-30                     NaN         NaN          NaN             NaN   \n",
       "1986-09-30                     NaN         NaN          NaN             NaN   \n",
       "1986-12-31                     NaN         NaN          NaN             NaN   \n",
       "1987-03-31                3.124127   11.559442     5.249051        4.302450   \n",
       "1987-06-30                2.610607   11.579359     4.001359        5.706661   \n",
       "...                            ...         ...          ...             ...   \n",
       "2018-09-30                1.220174    3.782149     6.021138        1.915670   \n",
       "2018-12-31                3.155887    9.141159     6.564380        1.913946   \n",
       "2019-03-31                3.385827   11.619639     3.792114        0.619564   \n",
       "2019-06-30                3.063038   11.642824     3.523799        1.920048   \n",
       "2019-09-30                2.967596   11.218259     2.744630        3.916650   \n",
       "\n",
       "            NDX_Return  \n",
       "Date                    \n",
       "1986-06-30         NaN  \n",
       "1986-09-30         NaN  \n",
       "1986-12-31         NaN  \n",
       "1987-03-31   13.917078  \n",
       "1987-06-30   22.855065  \n",
       "...                ...  \n",
       "2018-09-30   14.455733  \n",
       "2018-12-31   14.306324  \n",
       "2019-03-31   13.851040  \n",
       "2019-06-30    7.284603  \n",
       "2019-09-30    9.590869  \n",
       "\n",
       "[134 rows x 5 columns]"
      ]
     },
     "execution_count": 7,
     "metadata": {},
     "output_type": "execute_result"
    }
   ],
   "source": [
    "#Calculating the Funds STD\n",
    "rolling_std = returns_df.rolling(window=4).std()\n",
    "rolling_std"
   ]
  },
  {
   "cell_type": "code",
   "execution_count": 8,
   "metadata": {},
   "outputs": [
    {
     "data": {
      "text/plain": [
       "<matplotlib.axes._subplots.AxesSubplot at 0x1245fde90>"
      ]
     },
     "execution_count": 8,
     "metadata": {},
     "output_type": "execute_result"
    },
    {
     "data": {
      "image/png": "[encoded data removed]",
      "text/plain": [
       "<Figure size 432x288 with 1 Axes>"
      ]
     },
     "metadata": {
      "needs_background": "light"
     },
     "output_type": "display_data"
    }
   ],
   "source": [
    "#Plotting Fund Returns STD \n",
    "rolling_std['Private Equity Returns'].plot()"
   ]
  },
  {
   "cell_type": "code",
   "execution_count": 9,
   "metadata": {},
   "outputs": [
    {
     "data": {
      "text/plain": [
       "<matplotlib.axes._subplots.AxesSubplot at 0x124e3d910>"
      ]
     },
     "execution_count": 9,
     "metadata": {},
     "output_type": "execute_result"
    },
    {
     "data": {
      "image/png": "[encoded data removed]",
      "text/plain": [
       "<Figure size 432x288 with 1 Axes>"
      ]
     },
     "metadata": {
      "needs_background": "light"
     },
     "output_type": "display_data"
    }
   ],
   "source": [
    "#Plotting Market STD \n",
    "rolling_std['SPX_Return'].plot()"
   ]
  },
  {
   "cell_type": "code",
   "execution_count": 10,
   "metadata": {},
   "outputs": [
    {
     "data": {
      "text/plain": [
       "Date\n",
       "1986-06-30          NaN\n",
       "1986-09-30          NaN\n",
       "1986-12-31          NaN\n",
       "1987-03-31    28.902848\n",
       "1987-06-30    29.378712\n",
       "                ...    \n",
       "2018-09-30     2.426803\n",
       "2018-12-31    26.647777\n",
       "2019-03-31    35.502737\n",
       "2019-06-30    35.341702\n",
       "2019-09-30    32.614389\n",
       "Freq: Q-DEC, Length: 134, dtype: float64"
      ]
     },
     "execution_count": 10,
     "metadata": {},
     "output_type": "execute_result"
    }
   ],
   "source": [
    "#Calculating Covariance \n",
    "rolling_covariance = returns_df['Private Equity Returns'].rolling(window=4).cov(returns_df['SPX_Return'])\n",
    "rolling_covariance"
   ]
  },
  {
   "cell_type": "code",
   "execution_count": 11,
   "metadata": {},
   "outputs": [
    {
     "data": {
      "text/plain": [
       "Date\n",
       "1986-06-30           NaN\n",
       "1986-09-30           NaN\n",
       "1986-12-31           NaN\n",
       "1987-03-31    133.620695\n",
       "1987-06-30    134.081544\n",
       "                 ...    \n",
       "2018-09-30     14.304650\n",
       "2018-12-31     83.560788\n",
       "2019-03-31    135.016015\n",
       "2019-06-30    135.555341\n",
       "2019-09-30    125.849339\n",
       "Freq: Q-DEC, Name: SPX_Return, Length: 134, dtype: float64"
      ]
     },
     "execution_count": 11,
     "metadata": {},
     "output_type": "execute_result"
    }
   ],
   "source": [
    "#Calculate Rolling Variance \n",
    "rolling_variance_spx = returns_df['SPX_Return'].rolling(window=4).var()\n",
    "rolling_variance_spx"
   ]
  },
  {
   "cell_type": "code",
   "execution_count": 12,
   "metadata": {},
   "outputs": [
    {
     "data": {
      "text/plain": [
       "<matplotlib.axes._subplots.AxesSubplot at 0x125001250>"
      ]
     },
     "execution_count": 12,
     "metadata": {},
     "output_type": "execute_result"
    },
    {
     "data": {
      "image/png": "[encoded data removed]",
      "text/plain": [
       "<Figure size 432x288 with 1 Axes>"
      ]
     },
     "metadata": {
      "needs_background": "light"
     },
     "output_type": "display_data"
    }
   ],
   "source": [
    "#Calculate the rolling 1 year beta of the Fund\n",
    "rolling_beta = rolling_covariance / rolling_variance_spx\n",
    "rolling_beta.plot()"
   ]
  },
  {
   "cell_type": "code",
   "execution_count": 13,
   "metadata": {},
   "outputs": [
    {
     "data": {
      "text/plain": [
       "1.4667395767226639"
      ]
     },
     "execution_count": 13,
     "metadata": {},
     "output_type": "execute_result"
    }
   ],
   "source": [
    "#Calculating Sharpes \n",
    "sharpe_ratio = (returns_df['Private Equity Returns'].mean()*4)/(returns_df['Private Equity Returns'].std()*np.sqrt(4))\n",
    "sharpe_ratio"
   ]
  },
  {
   "cell_type": "code",
   "execution_count": 14,
   "metadata": {},
   "outputs": [
    {
     "data": {
      "text/plain": [
       "10_Year_Return            0.169151\n",
       "Gold_Return               0.369753\n",
       "SPX_Return                0.567143\n",
       "NDX_Return                0.597420\n",
       "Private Equity Returns    1.466740\n",
       "dtype: float64"
      ]
     },
     "execution_count": 14,
     "metadata": {},
     "output_type": "execute_result"
    }
   ],
   "source": [
    "#Calculate Sharpe Ratios for entire group\n",
    "sharpe_ratios = (returns_df.mean()*4)/(returns_df.std()*np.sqrt(4))\n",
    "sharpe_ratios.sort_values(inplace=True)\n",
    "sharpe_ratios"
   ]
  },
  {
   "cell_type": "code",
   "execution_count": 15,
   "metadata": {},
   "outputs": [
    {
     "data": {
      "text/plain": [
       "<matplotlib.axes._subplots.AxesSubplot at 0x12624e590>"
      ]
     },
     "execution_count": 15,
     "metadata": {},
     "output_type": "execute_result"
    },
    {
     "data": {
      "image/png": "[encoded data removed]",
      "text/plain": [
       "<Figure size 432x288 with 1 Axes>"
      ]
     },
     "metadata": {
      "needs_background": "light"
     },
     "output_type": "display_data"
    }
   ],
   "source": [
    "# Visualize the sharpe ratios as a bar plot\n",
    "sharpe_ratios.plot.bar()"
   ]
  },
  {
   "cell_type": "code",
   "execution_count": 16,
   "metadata": {},
   "outputs": [
    {
     "data": {
      "text/plain": [
       "2.2091162611940307"
      ]
     },
     "execution_count": 16,
     "metadata": {},
     "output_type": "execute_result"
    }
   ],
   "source": [
    "#Start of the Monte Carlo Analysis \n",
    "avg_qtr_return_pe = returns_df.mean()['Private Equity Returns']\n",
    "avg_qtr_return_spx = returns_df.mean()['SPX_Return']\n",
    "avg_qtr_return_spx"
   ]
  },
  {
   "cell_type": "code",
   "execution_count": 17,
   "metadata": {},
   "outputs": [
    {
     "data": {
      "text/plain": [
       "7.790332164529446"
      ]
     },
     "execution_count": 17,
     "metadata": {},
     "output_type": "execute_result"
    }
   ],
   "source": [
    "#Calculating the Std for Private Equity Returns and S&P \n",
    "std_dev_qtr_return_pe = returns_df.std()['Private Equity Returns']\n",
    "std_dev_qtr_return_spx = returns_df.std()['SPX_Return']\n",
    "std_dev_qtr_return_spx"
   ]
  },
  {
   "cell_type": "code",
   "execution_count": 18,
   "metadata": {},
   "outputs": [],
   "source": [
    "# Save the last day's closing price\n",
    "pe_last_price = returns_df['Private Equity Returns'][-1]\n",
    "spx_last_price = returns_df['SPX_Return'][-1]"
   ]
  },
  {
   "cell_type": "code",
   "execution_count": 19,
   "metadata": {},
   "outputs": [],
   "source": [
    "# Setup the Monte Carlo Parameters\n",
    "number_simulations = 500\n",
    "number_records = 4 * 30\n",
    "monte_carlo = pd.DataFrame()\n",
    "portfolio_cumulative_returns = pd.DataFrame()"
   ]
  },
  {
   "cell_type": "code",
   "execution_count": 20,
   "metadata": {},
   "outputs": [
    {
     "data": {
      "text/html": [
       "<div>\n",
       "<style scoped>\n",
       "    .dataframe tbody tr th:only-of-type {\n",
       "        vertical-align: middle;\n",
       "    }\n",
       "\n",
       "    .dataframe tbody tr th {\n",
       "        vertical-align: top;\n",
       "    }\n",
       "\n",
       "    .dataframe thead th {\n",
       "        text-align: right;\n",
       "    }\n",
       "</style>\n",
       "<table border=\"1\" class=\"dataframe\">\n",
       "  <thead>\n",
       "    <tr style=\"text-align: right;\">\n",
       "      <th></th>\n",
       "      <th>0</th>\n",
       "      <th>1</th>\n",
       "      <th>2</th>\n",
       "      <th>3</th>\n",
       "      <th>4</th>\n",
       "      <th>5</th>\n",
       "      <th>6</th>\n",
       "      <th>7</th>\n",
       "      <th>8</th>\n",
       "      <th>9</th>\n",
       "      <th>...</th>\n",
       "      <th>490</th>\n",
       "      <th>491</th>\n",
       "      <th>492</th>\n",
       "      <th>493</th>\n",
       "      <th>494</th>\n",
       "      <th>495</th>\n",
       "      <th>496</th>\n",
       "      <th>497</th>\n",
       "      <th>498</th>\n",
       "      <th>499</th>\n",
       "    </tr>\n",
       "  </thead>\n",
       "  <tbody>\n",
       "    <tr>\n",
       "      <td>0</td>\n",
       "      <td>1.000000</td>\n",
       "      <td>1.000000</td>\n",
       "      <td>1.000000</td>\n",
       "      <td>1.000000</td>\n",
       "      <td>1.000000</td>\n",
       "      <td>1.000000</td>\n",
       "      <td>1.000000</td>\n",
       "      <td>1.000000</td>\n",
       "      <td>1.000000</td>\n",
       "      <td>1.000000</td>\n",
       "      <td>...</td>\n",
       "      <td>1.000000</td>\n",
       "      <td>1.000000</td>\n",
       "      <td>1.000000</td>\n",
       "      <td>1.000000</td>\n",
       "      <td>1.000000</td>\n",
       "      <td>1.000000</td>\n",
       "      <td>1.000000</td>\n",
       "      <td>1.000000</td>\n",
       "      <td>1.000000</td>\n",
       "      <td>1.000000</td>\n",
       "    </tr>\n",
       "    <tr>\n",
       "      <td>1</td>\n",
       "      <td>9.435822</td>\n",
       "      <td>2.040022</td>\n",
       "      <td>3.729831</td>\n",
       "      <td>1.301366</td>\n",
       "      <td>-1.160123</td>\n",
       "      <td>6.621553</td>\n",
       "      <td>4.513561</td>\n",
       "      <td>3.647771</td>\n",
       "      <td>5.010667</td>\n",
       "      <td>0.873440</td>\n",
       "      <td>...</td>\n",
       "      <td>5.106965</td>\n",
       "      <td>8.108078</td>\n",
       "      <td>2.635914</td>\n",
       "      <td>0.491748</td>\n",
       "      <td>3.030628</td>\n",
       "      <td>4.531906</td>\n",
       "      <td>8.567190</td>\n",
       "      <td>6.565787</td>\n",
       "      <td>3.849114</td>\n",
       "      <td>4.840131</td>\n",
       "    </tr>\n",
       "    <tr>\n",
       "      <td>2</td>\n",
       "      <td>68.457903</td>\n",
       "      <td>27.573291</td>\n",
       "      <td>-18.173182</td>\n",
       "      <td>3.504157</td>\n",
       "      <td>-5.686536</td>\n",
       "      <td>38.058045</td>\n",
       "      <td>32.583721</td>\n",
       "      <td>34.880788</td>\n",
       "      <td>23.479237</td>\n",
       "      <td>-3.879504</td>\n",
       "      <td>...</td>\n",
       "      <td>8.185974</td>\n",
       "      <td>93.913098</td>\n",
       "      <td>4.798027</td>\n",
       "      <td>3.104252</td>\n",
       "      <td>11.993233</td>\n",
       "      <td>9.894098</td>\n",
       "      <td>20.499707</td>\n",
       "      <td>-45.665752</td>\n",
       "      <td>25.375437</td>\n",
       "      <td>21.786585</td>\n",
       "    </tr>\n",
       "    <tr>\n",
       "      <td>3</td>\n",
       "      <td>472.650208</td>\n",
       "      <td>313.281326</td>\n",
       "      <td>-9.824722</td>\n",
       "      <td>17.269471</td>\n",
       "      <td>-19.309751</td>\n",
       "      <td>441.096363</td>\n",
       "      <td>-36.813247</td>\n",
       "      <td>419.738001</td>\n",
       "      <td>-3.142623</td>\n",
       "      <td>-56.411368</td>\n",
       "      <td>...</td>\n",
       "      <td>44.326440</td>\n",
       "      <td>628.311314</td>\n",
       "      <td>-29.562832</td>\n",
       "      <td>27.410178</td>\n",
       "      <td>-15.141584</td>\n",
       "      <td>42.029503</td>\n",
       "      <td>123.179495</td>\n",
       "      <td>-16.395129</td>\n",
       "      <td>6.468744</td>\n",
       "      <td>-143.961211</td>\n",
       "    </tr>\n",
       "    <tr>\n",
       "      <td>4</td>\n",
       "      <td>3219.390857</td>\n",
       "      <td>2780.591381</td>\n",
       "      <td>-25.779661</td>\n",
       "      <td>138.337181</td>\n",
       "      <td>-1.937907</td>\n",
       "      <td>315.770872</td>\n",
       "      <td>-91.130964</td>\n",
       "      <td>85.885305</td>\n",
       "      <td>-14.359786</td>\n",
       "      <td>-239.541039</td>\n",
       "      <td>...</td>\n",
       "      <td>404.558448</td>\n",
       "      <td>-1585.695380</td>\n",
       "      <td>-223.820552</td>\n",
       "      <td>249.334503</td>\n",
       "      <td>-44.069301</td>\n",
       "      <td>316.336585</td>\n",
       "      <td>276.774156</td>\n",
       "      <td>-65.080426</td>\n",
       "      <td>87.636029</td>\n",
       "      <td>-30.162293</td>\n",
       "    </tr>\n",
       "  </tbody>\n",
       "</table>\n",
       "<p>5 rows × 500 columns</p>\n",
       "</div>"
      ],
      "text/plain": [
       "           0            1          2           3          4           5    \\\n",
       "0     1.000000     1.000000   1.000000    1.000000   1.000000    1.000000   \n",
       "1     9.435822     2.040022   3.729831    1.301366  -1.160123    6.621553   \n",
       "2    68.457903    27.573291 -18.173182    3.504157  -5.686536   38.058045   \n",
       "3   472.650208   313.281326  -9.824722   17.269471 -19.309751  441.096363   \n",
       "4  3219.390857  2780.591381 -25.779661  138.337181  -1.937907  315.770872   \n",
       "\n",
       "         6           7          8           9    ...         490          491  \\\n",
       "0   1.000000    1.000000   1.000000    1.000000  ...    1.000000     1.000000   \n",
       "1   4.513561    3.647771   5.010667    0.873440  ...    5.106965     8.108078   \n",
       "2  32.583721   34.880788  23.479237   -3.879504  ...    8.185974    93.913098   \n",
       "3 -36.813247  419.738001  -3.142623  -56.411368  ...   44.326440   628.311314   \n",
       "4 -91.130964   85.885305 -14.359786 -239.541039  ...  404.558448 -1585.695380   \n",
       "\n",
       "          492         493        494         495         496        497  \\\n",
       "0    1.000000    1.000000   1.000000    1.000000    1.000000   1.000000   \n",
       "1    2.635914    0.491748   3.030628    4.531906    8.567190   6.565787   \n",
       "2    4.798027    3.104252  11.993233    9.894098   20.499707 -45.665752   \n",
       "3  -29.562832   27.410178 -15.141584   42.029503  123.179495 -16.395129   \n",
       "4 -223.820552  249.334503 -44.069301  316.336585  276.774156 -65.080426   \n",
       "\n",
       "         498         499  \n",
       "0   1.000000    1.000000  \n",
       "1   3.849114    4.840131  \n",
       "2  25.375437   21.786585  \n",
       "3   6.468744 -143.961211  \n",
       "4  87.636029  -30.162293  \n",
       "\n",
       "[5 rows x 500 columns]"
      ]
     },
     "execution_count": 20,
     "metadata": {},
     "output_type": "execute_result"
    }
   ],
   "source": [
    "# Run the Monte Carlo Simulation\n",
    "for n in range(number_simulations):\n",
    "    \n",
    "    # Initialize last Prices\n",
    "    simulated_pe_prices = [pe_last_price]\n",
    "    simulated_spx_prices = [spx_last_price]\n",
    "    \n",
    "    # Simulate the returns for last 5 years\n",
    "    for i in range(number_records):\n",
    "        \n",
    "        # Calculate the simulated SPY and AGG prices \n",
    "        simulated_pe_price = simulated_pe_prices[-1] * (1 + np.random.normal(avg_qtr_return_pe, std_dev_qtr_return_pe))\n",
    "        simulated_spx_price = simulated_spx_prices[-1] * (1 + np.random.normal(avg_qtr_return_spx, std_dev_qtr_return_spx))\n",
    "        \n",
    "        # Append the simulated price to the list\n",
    "        simulated_pe_prices.append(simulated_pe_price)\n",
    "        simulated_spx_prices.append(simulated_spx_price)\n",
    "        \n",
    "    # Append a simulated prices of each simulation to DataFrame\n",
    "    monte_carlo[\"PE prices\"] = pd.Series(simulated_pe_prices)\n",
    "    monte_carlo[\"SPX prices\"] = pd.Series(simulated_spx_prices)\n",
    "    \n",
    "    # Calculate the daily returns of simulated prices\n",
    "    simulated_qtr_returns = monte_carlo.pct_change()\n",
    "    \n",
    "    # Set the portfolio weights (60% SPY; 40% AGG)\n",
    "    weights = [1,0]\n",
    "    \n",
    "    # Use the `dot` function with the weights to multiply weights with each column's simulated daily returns\n",
    "    portfolio_qtr_returns = simulated_qtr_returns.dot(weights)\n",
    "    \n",
    "    # Calculate the normalized, cumulative return series\n",
    "    portfolio_cumulative_returns[n] = (1 + portfolio_qtr_returns.fillna(0)).cumprod()\n",
    "    \n",
    "# Print records from the DataFrame\n",
    "portfolio_cumulative_returns.head()"
   ]
  },
  {
   "cell_type": "code",
   "execution_count": 21,
   "metadata": {},
   "outputs": [
    {
     "data": {
      "text/plain": [
       "<matplotlib.axes._subplots.AxesSubplot at 0x126dc11d0>"
      ]
     },
     "execution_count": 21,
     "metadata": {},
     "output_type": "execute_result"
    },
    {
     "data": {
      "image/png": "[encoded data removed]",
      "text/plain": [
       "<Figure size 432x288 with 1 Axes>"
      ]
     },
     "metadata": {
      "needs_background": "light"
     },
     "output_type": "display_data"
    }
   ],
   "source": [
    "# Visualize the Simulation\n",
    "plot_title = f\"{n+1} Simulations of Cumulative Portfolio Return Trajectories Over the Next 30 Years\"\n",
    "portfolio_cumulative_returns.plot(legend=None, title=plot_title)"
   ]
  },
  {
   "cell_type": "code",
   "execution_count": 23,
   "metadata": {},
   "outputs": [],
   "source": [
    "#pd.DataFrame(scaled_returns).hist()"
   ]
  },
  {
   "cell_type": "code",
   "execution_count": null,
   "metadata": {},
   "outputs": [],
   "source": [
    "#pe_df.pe_returns.hist()"
   ]
  },
  {
   "cell_type": "code",
   "execution_count": null,
   "metadata": {},
   "outputs": [],
   "source": [
    "#pe_df = pe_df.dropna()\n",
    "#pe_df"
   ]
  },
  {
   "cell_type": "code",
   "execution_count": null,
   "metadata": {},
   "outputs": [],
   "source": [
    "#pe_2_df = pe_df.set_index(['Date'])\n",
    "#pe_2_df"
   ]
  },
  {
   "cell_type": "code",
   "execution_count": null,
   "metadata": {},
   "outputs": [],
   "source": [
    "#pe_final = pe_df['Private Equity Returns'].copy()\n",
    "#pe_final#"
   ]
  },
  {
   "cell_type": "code",
   "execution_count": null,
   "metadata": {},
   "outputs": [],
   "source": [
    "#pe_final = pd.DataFrame(columns=['Date','Private Equity Returns'])\n",
    "#pe_final"
   ]
  },
  {
   "cell_type": "code",
   "execution_count": null,
   "metadata": {},
   "outputs": [],
   "source": [
    "#pe_final = pe_final.drop([134])\n",
    "#pe_final"
   ]
  },
  {
   "cell_type": "code",
   "execution_count": null,
   "metadata": {},
   "outputs": [],
   "source": [
    "#pe_final = pe_final.set_index('Date')\n",
    "#pe_final"
   ]
  },
  {
   "cell_type": "code",
   "execution_count": null,
   "metadata": {},
   "outputs": [],
   "source": [
    "#pe_df['Private Equity Returns'].plot()"
   ]
  },
  {
   "cell_type": "code",
   "execution_count": null,
   "metadata": {},
   "outputs": [],
   "source": [
    "#pe_df['Cumulative'].plot()"
   ]
  },
  {
   "cell_type": "code",
   "execution_count": null,
   "metadata": {},
   "outputs": [],
   "source": [
    "#pe_df = df.asfreq('Q-DEC')"
   ]
  },
  {
   "cell_type": "code",
   "execution_count": null,
   "metadata": {},
   "outputs": [],
   "source": [
    "#pd.infer_freq(pe_df.index)"
   ]
  },
  {
   "cell_type": "code",
   "execution_count": null,
   "metadata": {},
   "outputs": [],
   "source": []
  },
  {
   "cell_type": "code",
   "execution_count": null,
   "metadata": {},
   "outputs": [],
   "source": [
    "#from arch import arch_model"
   ]
  },
  {
   "cell_type": "code",
   "execution_count": null,
   "metadata": {},
   "outputs": [],
   "source": [
    "# 'p' and 'q'  are akin to the 'p' and 'q' of an ARMA model.\n",
    "# 'vol=\"GARCH\"' means that we're using a GARCH model.\n",
    "# The 'mean=\"Zero\"' means that we're estimating a GARCH.\n",
    "model = arch_model(pe_df.pe_returns, mean=\"Zero\", vol=\"Garch\", p=3, q=3)"
   ]
  },
  {
   "cell_type": "code",
   "execution_count": null,
   "metadata": {},
   "outputs": [],
   "source": [
    "# Fit the GARCH Model\n",
    "#res = model.fit()"
   ]
  },
  {
   "cell_type": "code",
   "execution_count": null,
   "metadata": {},
   "outputs": [],
   "source": [
    "#import statsmodels.api as sm"
   ]
  },
  {
   "cell_type": "code",
   "execution_count": null,
   "metadata": {},
   "outputs": [],
   "source": [
    "#ts_noise, ts_trend = sm.tsa.filters.hpfilter(pe_df.pe_returns)"
   ]
  },
  {
   "cell_type": "code",
   "execution_count": null,
   "metadata": {},
   "outputs": [],
   "source": [
    "#ts_noise.plot()"
   ]
  },
  {
   "cell_type": "code",
   "execution_count": null,
   "metadata": {},
   "outputs": [],
   "source": [
    "#ts_trend.plot()"
   ]
  },
  {
   "cell_type": "code",
   "execution_count": null,
   "metadata": {},
   "outputs": [],
   "source": [
    "#fit."
   ]
  },
  {
   "cell_type": "code",
   "execution_count": null,
   "metadata": {},
   "outputs": [],
   "source": [
    "#pe_df.pe_returns.plot()"
   ]
  },
  {
   "cell_type": "code",
   "execution_count": null,
   "metadata": {},
   "outputs": [],
   "source": [
    "# Summarize the model results\n",
    "#res.summary()"
   ]
  },
  {
   "cell_type": "code",
   "execution_count": null,
   "metadata": {},
   "outputs": [],
   "source": [
    "# Plot the model estimate of annualized volatility\n",
    "#fig = res.plot()"
   ]
  },
  {
   "cell_type": "code",
   "execution_count": null,
   "metadata": {},
   "outputs": [],
   "source": [
    "# Construct Volatility Forecasts for the next 3 days\n",
    "#forecast_horizon = 3\n",
    "# Take the last day of the data we used above. \n",
    "# If forecast horizon is 3, then the resulting 'h.1', 'h.2', and 'h.3' \n",
    "# are the forecasts for the following 3 days.\n",
    "#forecasts = res.forecast(start='2019-06-30', horizon=forecast_horizon)\n",
    "#forecasts.mean"
   ]
  },
  {
   "cell_type": "code",
   "execution_count": null,
   "metadata": {},
   "outputs": [],
   "source": [
    "#pe_df.tail()"
   ]
  },
  {
   "cell_type": "code",
   "execution_count": null,
   "metadata": {},
   "outputs": [],
   "source": [
    "#pe_df.tail()"
   ]
  },
  {
   "cell_type": "code",
   "execution_count": null,
   "metadata": {},
   "outputs": [],
   "source": [
    "#forecasts = res.forecast(start='2019-12-01', horizon=3)"
   ]
  },
  {
   "cell_type": "code",
   "execution_count": null,
   "metadata": {},
   "outputs": [],
   "source": [
    "#forecasts.variance"
   ]
  },
  {
   "cell_type": "code",
   "execution_count": null,
   "metadata": {},
   "outputs": [],
   "source": [
    "# Annualize the forecast\n",
    "#intermediate = np.sqrt(forecasts.variance.dropna() * 12)\n",
    "#intermediate"
   ]
  },
  {
   "cell_type": "code",
   "execution_count": null,
   "metadata": {},
   "outputs": [],
   "source": [
    "# The name of the column here is the date of the forecast.\n",
    "# Each row represents the forecast of volatility for the following days.\n",
    "# Transposing makes the forecast easier to plot\n",
    "#final = intermediate.dropna().T\n",
    "#final"
   ]
  },
  {
   "cell_type": "code",
   "execution_count": null,
   "metadata": {},
   "outputs": [],
   "source": [
    "#final.plot()"
   ]
  }
 ],
 "metadata": {
  "kernelspec": {
   "display_name": "Python 3",
   "language": "python",
   "name": "python3"
  },
  "language_info": {
   "codemirror_mode": {
    "name": "ipython",
    "version": 3
   },
   "file_extension": ".py",
   "mimetype": "text/x-python",
   "name": "python",
   "nbconvert_exporter": "python",
   "pygments_lexer": "ipython3",
   "version": "3.7.4"
  }
 },
 "nbformat": 4,
 "nbformat_minor": 4
}
